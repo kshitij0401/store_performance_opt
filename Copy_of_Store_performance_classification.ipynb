{
  "cells": [
    {
      "cell_type": "code",
      "execution_count": null,
      "metadata": {
        "id": "pw7SXKAQZAZd"
      },
      "outputs": [],
      "source": [
        "import pandas as pd\n",
        "import numpy as np\n",
        "import matplotlib.pyplot as plt\n",
        "from sklearn.preprocessing import OneHotEncoder\n",
        "from sklearn.compose import ColumnTransformer\n",
        "from sklearn.tree import DecisionTreeClassifier\n",
        "\n",
        "from sklearn.linear_model import LogisticRegression\n",
        "from sklearn.model_selection import train_test_split\n",
        "from sklearn.metrics import accuracy_score, confusion_matrix\n",
        "from sklearn.preprocessing import StandardScaler\n",
        "from sklearn.preprocessing import LabelEncoder\n",
        "from sklearn.model_selection import cross_val_score\n",
        "from sklearn.model_selection import cross_val_predict\n",
        "\n"
      ]
    },
    {
      "cell_type": "code",
      "execution_count": null,
      "metadata": {
        "colab": {
          "base_uri": "https://localhost:8080/",
          "height": 652
        },
        "id": "_meXzXYRZeVf",
        "outputId": "2f4e0673-7e20-408d-dad7-d7701edd5b46"
      },
      "outputs": [
        {
          "output_type": "execute_result",
          "data": {
            "text/plain": [
              "                              Town Country  Store ID Manager name  Staff  \\\n",
              "0     Swinton (Greater Manchester)      UK      1437        Roger      9   \n",
              "1                         Stamford      UK      1544         Ella      8   \n",
              "2                          Skipton      UK      2039    Valentina     -2   \n",
              "3                         Stratton      UK      2055      Antonia      7   \n",
              "4                       Shepperton      UK      2141      Gabriel      7   \n",
              "..                             ...     ...       ...          ...    ...   \n",
              "131                 South Benfleet      UK     96853      Vit�ria      7   \n",
              "132                          Sandy      UK     96858       Mat�as      6   \n",
              "133                      Sheerness      UK     98062      Gustavo      7   \n",
              "134                        Salford      UK     98923       Rafael      6   \n",
              "135                     Stapleford      UK     99854          Lea      9   \n",
              "\n",
              "     Floor Space  Window Car park  Demographic score         Location  \\\n",
              "0          18526     121      Yes                 10      Retail Park   \n",
              "1          18569     121      Yes                 11  Shopping Centre   \n",
              "2          12288     105       No                 12      Retail Park   \n",
              "3          17092     117       No                 14      High Street   \n",
              "4          11307     103       No                 18      Retail Park   \n",
              "..           ...     ...      ...                ...              ...   \n",
              "131        14120     110      Yes                 13      Retail Park   \n",
              "132        11205     103       No                 15  Shopping Centre   \n",
              "133        16190     115       No                 19  Shopping Centre   \n",
              "134        15516     113       No                 17      High Street   \n",
              "135        14468     111      Yes                 18      High Street   \n",
              "\n",
              "     40min population  30 min population  20 min population  \\\n",
              "0             1288374            1138224            1006986   \n",
              "1             1086225            1015321            1012182   \n",
              "2             1595638            1281661            1104490   \n",
              "3             1179395            1022959            1009496   \n",
              "4             1398558            1085170            1003137   \n",
              "..                ...                ...                ...   \n",
              "131           1665074            1240813            1141898   \n",
              "132           1657769            1424404            1378708   \n",
              "133           1407456            1359511            1200486   \n",
              "134           1451087            1245725            1127276   \n",
              "135           1706344            1307752            1159859   \n",
              "\n",
              "     10 min population  Store age  Clearance space  Competition number  \\\n",
              "0              1002340          3              238                  16   \n",
              "1              1008436          4              384                  15   \n",
              "2              1011395         11              219                  13   \n",
              "3              1002169          5              261                  15   \n",
              "4              1002513          7              200                  19   \n",
              "..                 ...        ...              ...                 ...   \n",
              "131            1041041          6              202                  18   \n",
              "132            1160929          5              203                  13   \n",
              "133            1063718          7              341                  18   \n",
              "134            1045154         11              261                  14   \n",
              "135            1020940          8              276                  18   \n",
              "\n",
              "     Competition score Performance  \n",
              "0                   16        Good  \n",
              "1                   19        Good  \n",
              "2                   18         Bad  \n",
              "3                   12         Bad  \n",
              "4                   13         Bad  \n",
              "..                 ...         ...  \n",
              "131                 14         Bad  \n",
              "132                 18         Bad  \n",
              "133                 18         Bad  \n",
              "134                 10         Bad  \n",
              "135                 13        Good  \n",
              "\n",
              "[136 rows x 19 columns]"
            ],
            "text/html": [
              "\n",
              "  <div id=\"df-49fbf2da-c343-454d-b2cb-320958230182\" class=\"colab-df-container\">\n",
              "    <div>\n",
              "<style scoped>\n",
              "    .dataframe tbody tr th:only-of-type {\n",
              "        vertical-align: middle;\n",
              "    }\n",
              "\n",
              "    .dataframe tbody tr th {\n",
              "        vertical-align: top;\n",
              "    }\n",
              "\n",
              "    .dataframe thead th {\n",
              "        text-align: right;\n",
              "    }\n",
              "</style>\n",
              "<table border=\"1\" class=\"dataframe\">\n",
              "  <thead>\n",
              "    <tr style=\"text-align: right;\">\n",
              "      <th></th>\n",
              "      <th>Town</th>\n",
              "      <th>Country</th>\n",
              "      <th>Store ID</th>\n",
              "      <th>Manager name</th>\n",
              "      <th>Staff</th>\n",
              "      <th>Floor Space</th>\n",
              "      <th>Window</th>\n",
              "      <th>Car park</th>\n",
              "      <th>Demographic score</th>\n",
              "      <th>Location</th>\n",
              "      <th>40min population</th>\n",
              "      <th>30 min population</th>\n",
              "      <th>20 min population</th>\n",
              "      <th>10 min population</th>\n",
              "      <th>Store age</th>\n",
              "      <th>Clearance space</th>\n",
              "      <th>Competition number</th>\n",
              "      <th>Competition score</th>\n",
              "      <th>Performance</th>\n",
              "    </tr>\n",
              "  </thead>\n",
              "  <tbody>\n",
              "    <tr>\n",
              "      <th>0</th>\n",
              "      <td>Swinton (Greater Manchester)</td>\n",
              "      <td>UK</td>\n",
              "      <td>1437</td>\n",
              "      <td>Roger</td>\n",
              "      <td>9</td>\n",
              "      <td>18526</td>\n",
              "      <td>121</td>\n",
              "      <td>Yes</td>\n",
              "      <td>10</td>\n",
              "      <td>Retail Park</td>\n",
              "      <td>1288374</td>\n",
              "      <td>1138224</td>\n",
              "      <td>1006986</td>\n",
              "      <td>1002340</td>\n",
              "      <td>3</td>\n",
              "      <td>238</td>\n",
              "      <td>16</td>\n",
              "      <td>16</td>\n",
              "      <td>Good</td>\n",
              "    </tr>\n",
              "    <tr>\n",
              "      <th>1</th>\n",
              "      <td>Stamford</td>\n",
              "      <td>UK</td>\n",
              "      <td>1544</td>\n",
              "      <td>Ella</td>\n",
              "      <td>8</td>\n",
              "      <td>18569</td>\n",
              "      <td>121</td>\n",
              "      <td>Yes</td>\n",
              "      <td>11</td>\n",
              "      <td>Shopping Centre</td>\n",
              "      <td>1086225</td>\n",
              "      <td>1015321</td>\n",
              "      <td>1012182</td>\n",
              "      <td>1008436</td>\n",
              "      <td>4</td>\n",
              "      <td>384</td>\n",
              "      <td>15</td>\n",
              "      <td>19</td>\n",
              "      <td>Good</td>\n",
              "    </tr>\n",
              "    <tr>\n",
              "      <th>2</th>\n",
              "      <td>Skipton</td>\n",
              "      <td>UK</td>\n",
              "      <td>2039</td>\n",
              "      <td>Valentina</td>\n",
              "      <td>-2</td>\n",
              "      <td>12288</td>\n",
              "      <td>105</td>\n",
              "      <td>No</td>\n",
              "      <td>12</td>\n",
              "      <td>Retail Park</td>\n",
              "      <td>1595638</td>\n",
              "      <td>1281661</td>\n",
              "      <td>1104490</td>\n",
              "      <td>1011395</td>\n",
              "      <td>11</td>\n",
              "      <td>219</td>\n",
              "      <td>13</td>\n",
              "      <td>18</td>\n",
              "      <td>Bad</td>\n",
              "    </tr>\n",
              "    <tr>\n",
              "      <th>3</th>\n",
              "      <td>Stratton</td>\n",
              "      <td>UK</td>\n",
              "      <td>2055</td>\n",
              "      <td>Antonia</td>\n",
              "      <td>7</td>\n",
              "      <td>17092</td>\n",
              "      <td>117</td>\n",
              "      <td>No</td>\n",
              "      <td>14</td>\n",
              "      <td>High Street</td>\n",
              "      <td>1179395</td>\n",
              "      <td>1022959</td>\n",
              "      <td>1009496</td>\n",
              "      <td>1002169</td>\n",
              "      <td>5</td>\n",
              "      <td>261</td>\n",
              "      <td>15</td>\n",
              "      <td>12</td>\n",
              "      <td>Bad</td>\n",
              "    </tr>\n",
              "    <tr>\n",
              "      <th>4</th>\n",
              "      <td>Shepperton</td>\n",
              "      <td>UK</td>\n",
              "      <td>2141</td>\n",
              "      <td>Gabriel</td>\n",
              "      <td>7</td>\n",
              "      <td>11307</td>\n",
              "      <td>103</td>\n",
              "      <td>No</td>\n",
              "      <td>18</td>\n",
              "      <td>Retail Park</td>\n",
              "      <td>1398558</td>\n",
              "      <td>1085170</td>\n",
              "      <td>1003137</td>\n",
              "      <td>1002513</td>\n",
              "      <td>7</td>\n",
              "      <td>200</td>\n",
              "      <td>19</td>\n",
              "      <td>13</td>\n",
              "      <td>Bad</td>\n",
              "    </tr>\n",
              "    <tr>\n",
              "      <th>...</th>\n",
              "      <td>...</td>\n",
              "      <td>...</td>\n",
              "      <td>...</td>\n",
              "      <td>...</td>\n",
              "      <td>...</td>\n",
              "      <td>...</td>\n",
              "      <td>...</td>\n",
              "      <td>...</td>\n",
              "      <td>...</td>\n",
              "      <td>...</td>\n",
              "      <td>...</td>\n",
              "      <td>...</td>\n",
              "      <td>...</td>\n",
              "      <td>...</td>\n",
              "      <td>...</td>\n",
              "      <td>...</td>\n",
              "      <td>...</td>\n",
              "      <td>...</td>\n",
              "      <td>...</td>\n",
              "    </tr>\n",
              "    <tr>\n",
              "      <th>131</th>\n",
              "      <td>South Benfleet</td>\n",
              "      <td>UK</td>\n",
              "      <td>96853</td>\n",
              "      <td>Vit�ria</td>\n",
              "      <td>7</td>\n",
              "      <td>14120</td>\n",
              "      <td>110</td>\n",
              "      <td>Yes</td>\n",
              "      <td>13</td>\n",
              "      <td>Retail Park</td>\n",
              "      <td>1665074</td>\n",
              "      <td>1240813</td>\n",
              "      <td>1141898</td>\n",
              "      <td>1041041</td>\n",
              "      <td>6</td>\n",
              "      <td>202</td>\n",
              "      <td>18</td>\n",
              "      <td>14</td>\n",
              "      <td>Bad</td>\n",
              "    </tr>\n",
              "    <tr>\n",
              "      <th>132</th>\n",
              "      <td>Sandy</td>\n",
              "      <td>UK</td>\n",
              "      <td>96858</td>\n",
              "      <td>Mat�as</td>\n",
              "      <td>6</td>\n",
              "      <td>11205</td>\n",
              "      <td>103</td>\n",
              "      <td>No</td>\n",
              "      <td>15</td>\n",
              "      <td>Shopping Centre</td>\n",
              "      <td>1657769</td>\n",
              "      <td>1424404</td>\n",
              "      <td>1378708</td>\n",
              "      <td>1160929</td>\n",
              "      <td>5</td>\n",
              "      <td>203</td>\n",
              "      <td>13</td>\n",
              "      <td>18</td>\n",
              "      <td>Bad</td>\n",
              "    </tr>\n",
              "    <tr>\n",
              "      <th>133</th>\n",
              "      <td>Sheerness</td>\n",
              "      <td>UK</td>\n",
              "      <td>98062</td>\n",
              "      <td>Gustavo</td>\n",
              "      <td>7</td>\n",
              "      <td>16190</td>\n",
              "      <td>115</td>\n",
              "      <td>No</td>\n",
              "      <td>19</td>\n",
              "      <td>Shopping Centre</td>\n",
              "      <td>1407456</td>\n",
              "      <td>1359511</td>\n",
              "      <td>1200486</td>\n",
              "      <td>1063718</td>\n",
              "      <td>7</td>\n",
              "      <td>341</td>\n",
              "      <td>18</td>\n",
              "      <td>18</td>\n",
              "      <td>Bad</td>\n",
              "    </tr>\n",
              "    <tr>\n",
              "      <th>134</th>\n",
              "      <td>Salford</td>\n",
              "      <td>UK</td>\n",
              "      <td>98923</td>\n",
              "      <td>Rafael</td>\n",
              "      <td>6</td>\n",
              "      <td>15516</td>\n",
              "      <td>113</td>\n",
              "      <td>No</td>\n",
              "      <td>17</td>\n",
              "      <td>High Street</td>\n",
              "      <td>1451087</td>\n",
              "      <td>1245725</td>\n",
              "      <td>1127276</td>\n",
              "      <td>1045154</td>\n",
              "      <td>11</td>\n",
              "      <td>261</td>\n",
              "      <td>14</td>\n",
              "      <td>10</td>\n",
              "      <td>Bad</td>\n",
              "    </tr>\n",
              "    <tr>\n",
              "      <th>135</th>\n",
              "      <td>Stapleford</td>\n",
              "      <td>UK</td>\n",
              "      <td>99854</td>\n",
              "      <td>Lea</td>\n",
              "      <td>9</td>\n",
              "      <td>14468</td>\n",
              "      <td>111</td>\n",
              "      <td>Yes</td>\n",
              "      <td>18</td>\n",
              "      <td>High Street</td>\n",
              "      <td>1706344</td>\n",
              "      <td>1307752</td>\n",
              "      <td>1159859</td>\n",
              "      <td>1020940</td>\n",
              "      <td>8</td>\n",
              "      <td>276</td>\n",
              "      <td>18</td>\n",
              "      <td>13</td>\n",
              "      <td>Good</td>\n",
              "    </tr>\n",
              "  </tbody>\n",
              "</table>\n",
              "<p>136 rows × 19 columns</p>\n",
              "</div>\n",
              "    <div class=\"colab-df-buttons\">\n",
              "\n",
              "  <div class=\"colab-df-container\">\n",
              "    <button class=\"colab-df-convert\" onclick=\"convertToInteractive('df-49fbf2da-c343-454d-b2cb-320958230182')\"\n",
              "            title=\"Convert this dataframe to an interactive table.\"\n",
              "            style=\"display:none;\">\n",
              "\n",
              "  <svg xmlns=\"http://www.w3.org/2000/svg\" height=\"24px\" viewBox=\"0 -960 960 960\">\n",
              "    <path d=\"M120-120v-720h720v720H120Zm60-500h600v-160H180v160Zm220 220h160v-160H400v160Zm0 220h160v-160H400v160ZM180-400h160v-160H180v160Zm440 0h160v-160H620v160ZM180-180h160v-160H180v160Zm440 0h160v-160H620v160Z\"/>\n",
              "  </svg>\n",
              "    </button>\n",
              "\n",
              "  <style>\n",
              "    .colab-df-container {\n",
              "      display:flex;\n",
              "      gap: 12px;\n",
              "    }\n",
              "\n",
              "    .colab-df-convert {\n",
              "      background-color: #E8F0FE;\n",
              "      border: none;\n",
              "      border-radius: 50%;\n",
              "      cursor: pointer;\n",
              "      display: none;\n",
              "      fill: #1967D2;\n",
              "      height: 32px;\n",
              "      padding: 0 0 0 0;\n",
              "      width: 32px;\n",
              "    }\n",
              "\n",
              "    .colab-df-convert:hover {\n",
              "      background-color: #E2EBFA;\n",
              "      box-shadow: 0px 1px 2px rgba(60, 64, 67, 0.3), 0px 1px 3px 1px rgba(60, 64, 67, 0.15);\n",
              "      fill: #174EA6;\n",
              "    }\n",
              "\n",
              "    .colab-df-buttons div {\n",
              "      margin-bottom: 4px;\n",
              "    }\n",
              "\n",
              "    [theme=dark] .colab-df-convert {\n",
              "      background-color: #3B4455;\n",
              "      fill: #D2E3FC;\n",
              "    }\n",
              "\n",
              "    [theme=dark] .colab-df-convert:hover {\n",
              "      background-color: #434B5C;\n",
              "      box-shadow: 0px 1px 3px 1px rgba(0, 0, 0, 0.15);\n",
              "      filter: drop-shadow(0px 1px 2px rgba(0, 0, 0, 0.3));\n",
              "      fill: #FFFFFF;\n",
              "    }\n",
              "  </style>\n",
              "\n",
              "    <script>\n",
              "      const buttonEl =\n",
              "        document.querySelector('#df-49fbf2da-c343-454d-b2cb-320958230182 button.colab-df-convert');\n",
              "      buttonEl.style.display =\n",
              "        google.colab.kernel.accessAllowed ? 'block' : 'none';\n",
              "\n",
              "      async function convertToInteractive(key) {\n",
              "        const element = document.querySelector('#df-49fbf2da-c343-454d-b2cb-320958230182');\n",
              "        const dataTable =\n",
              "          await google.colab.kernel.invokeFunction('convertToInteractive',\n",
              "                                                    [key], {});\n",
              "        if (!dataTable) return;\n",
              "\n",
              "        const docLinkHtml = 'Like what you see? Visit the ' +\n",
              "          '<a target=\"_blank\" href=https://colab.research.google.com/notebooks/data_table.ipynb>data table notebook</a>'\n",
              "          + ' to learn more about interactive tables.';\n",
              "        element.innerHTML = '';\n",
              "        dataTable['output_type'] = 'display_data';\n",
              "        await google.colab.output.renderOutput(dataTable, element);\n",
              "        const docLink = document.createElement('div');\n",
              "        docLink.innerHTML = docLinkHtml;\n",
              "        element.appendChild(docLink);\n",
              "      }\n",
              "    </script>\n",
              "  </div>\n",
              "\n",
              "\n",
              "<div id=\"df-44429f8e-04fe-45ad-a7b0-eca3ea8ca25b\">\n",
              "  <button class=\"colab-df-quickchart\" onclick=\"quickchart('df-44429f8e-04fe-45ad-a7b0-eca3ea8ca25b')\"\n",
              "            title=\"Suggest charts\"\n",
              "            style=\"display:none;\">\n",
              "\n",
              "<svg xmlns=\"http://www.w3.org/2000/svg\" height=\"24px\"viewBox=\"0 0 24 24\"\n",
              "     width=\"24px\">\n",
              "    <g>\n",
              "        <path d=\"M19 3H5c-1.1 0-2 .9-2 2v14c0 1.1.9 2 2 2h14c1.1 0 2-.9 2-2V5c0-1.1-.9-2-2-2zM9 17H7v-7h2v7zm4 0h-2V7h2v10zm4 0h-2v-4h2v4z\"/>\n",
              "    </g>\n",
              "</svg>\n",
              "  </button>\n",
              "\n",
              "<style>\n",
              "  .colab-df-quickchart {\n",
              "      --bg-color: #E8F0FE;\n",
              "      --fill-color: #1967D2;\n",
              "      --hover-bg-color: #E2EBFA;\n",
              "      --hover-fill-color: #174EA6;\n",
              "      --disabled-fill-color: #AAA;\n",
              "      --disabled-bg-color: #DDD;\n",
              "  }\n",
              "\n",
              "  [theme=dark] .colab-df-quickchart {\n",
              "      --bg-color: #3B4455;\n",
              "      --fill-color: #D2E3FC;\n",
              "      --hover-bg-color: #434B5C;\n",
              "      --hover-fill-color: #FFFFFF;\n",
              "      --disabled-bg-color: #3B4455;\n",
              "      --disabled-fill-color: #666;\n",
              "  }\n",
              "\n",
              "  .colab-df-quickchart {\n",
              "    background-color: var(--bg-color);\n",
              "    border: none;\n",
              "    border-radius: 50%;\n",
              "    cursor: pointer;\n",
              "    display: none;\n",
              "    fill: var(--fill-color);\n",
              "    height: 32px;\n",
              "    padding: 0;\n",
              "    width: 32px;\n",
              "  }\n",
              "\n",
              "  .colab-df-quickchart:hover {\n",
              "    background-color: var(--hover-bg-color);\n",
              "    box-shadow: 0 1px 2px rgba(60, 64, 67, 0.3), 0 1px 3px 1px rgba(60, 64, 67, 0.15);\n",
              "    fill: var(--button-hover-fill-color);\n",
              "  }\n",
              "\n",
              "  .colab-df-quickchart-complete:disabled,\n",
              "  .colab-df-quickchart-complete:disabled:hover {\n",
              "    background-color: var(--disabled-bg-color);\n",
              "    fill: var(--disabled-fill-color);\n",
              "    box-shadow: none;\n",
              "  }\n",
              "\n",
              "  .colab-df-spinner {\n",
              "    border: 2px solid var(--fill-color);\n",
              "    border-color: transparent;\n",
              "    border-bottom-color: var(--fill-color);\n",
              "    animation:\n",
              "      spin 1s steps(1) infinite;\n",
              "  }\n",
              "\n",
              "  @keyframes spin {\n",
              "    0% {\n",
              "      border-color: transparent;\n",
              "      border-bottom-color: var(--fill-color);\n",
              "      border-left-color: var(--fill-color);\n",
              "    }\n",
              "    20% {\n",
              "      border-color: transparent;\n",
              "      border-left-color: var(--fill-color);\n",
              "      border-top-color: var(--fill-color);\n",
              "    }\n",
              "    30% {\n",
              "      border-color: transparent;\n",
              "      border-left-color: var(--fill-color);\n",
              "      border-top-color: var(--fill-color);\n",
              "      border-right-color: var(--fill-color);\n",
              "    }\n",
              "    40% {\n",
              "      border-color: transparent;\n",
              "      border-right-color: var(--fill-color);\n",
              "      border-top-color: var(--fill-color);\n",
              "    }\n",
              "    60% {\n",
              "      border-color: transparent;\n",
              "      border-right-color: var(--fill-color);\n",
              "    }\n",
              "    80% {\n",
              "      border-color: transparent;\n",
              "      border-right-color: var(--fill-color);\n",
              "      border-bottom-color: var(--fill-color);\n",
              "    }\n",
              "    90% {\n",
              "      border-color: transparent;\n",
              "      border-bottom-color: var(--fill-color);\n",
              "    }\n",
              "  }\n",
              "</style>\n",
              "\n",
              "  <script>\n",
              "    async function quickchart(key) {\n",
              "      const quickchartButtonEl =\n",
              "        document.querySelector('#' + key + ' button');\n",
              "      quickchartButtonEl.disabled = true;  // To prevent multiple clicks.\n",
              "      quickchartButtonEl.classList.add('colab-df-spinner');\n",
              "      try {\n",
              "        const charts = await google.colab.kernel.invokeFunction(\n",
              "            'suggestCharts', [key], {});\n",
              "      } catch (error) {\n",
              "        console.error('Error during call to suggestCharts:', error);\n",
              "      }\n",
              "      quickchartButtonEl.classList.remove('colab-df-spinner');\n",
              "      quickchartButtonEl.classList.add('colab-df-quickchart-complete');\n",
              "    }\n",
              "    (() => {\n",
              "      let quickchartButtonEl =\n",
              "        document.querySelector('#df-44429f8e-04fe-45ad-a7b0-eca3ea8ca25b button');\n",
              "      quickchartButtonEl.style.display =\n",
              "        google.colab.kernel.accessAllowed ? 'block' : 'none';\n",
              "    })();\n",
              "  </script>\n",
              "</div>\n",
              "\n",
              "  <div id=\"id_9d6ed288-7bee-47f9-a422-37a22969a330\">\n",
              "    <style>\n",
              "      .colab-df-generate {\n",
              "        background-color: #E8F0FE;\n",
              "        border: none;\n",
              "        border-radius: 50%;\n",
              "        cursor: pointer;\n",
              "        display: none;\n",
              "        fill: #1967D2;\n",
              "        height: 32px;\n",
              "        padding: 0 0 0 0;\n",
              "        width: 32px;\n",
              "      }\n",
              "\n",
              "      .colab-df-generate:hover {\n",
              "        background-color: #E2EBFA;\n",
              "        box-shadow: 0px 1px 2px rgba(60, 64, 67, 0.3), 0px 1px 3px 1px rgba(60, 64, 67, 0.15);\n",
              "        fill: #174EA6;\n",
              "      }\n",
              "\n",
              "      [theme=dark] .colab-df-generate {\n",
              "        background-color: #3B4455;\n",
              "        fill: #D2E3FC;\n",
              "      }\n",
              "\n",
              "      [theme=dark] .colab-df-generate:hover {\n",
              "        background-color: #434B5C;\n",
              "        box-shadow: 0px 1px 3px 1px rgba(0, 0, 0, 0.15);\n",
              "        filter: drop-shadow(0px 1px 2px rgba(0, 0, 0, 0.3));\n",
              "        fill: #FFFFFF;\n",
              "      }\n",
              "    </style>\n",
              "    <button class=\"colab-df-generate\" onclick=\"generateWithVariable('df')\"\n",
              "            title=\"Generate code using this dataframe.\"\n",
              "            style=\"display:none;\">\n",
              "\n",
              "  <svg xmlns=\"http://www.w3.org/2000/svg\" height=\"24px\"viewBox=\"0 0 24 24\"\n",
              "       width=\"24px\">\n",
              "    <path d=\"M7,19H8.4L18.45,9,17,7.55,7,17.6ZM5,21V16.75L18.45,3.32a2,2,0,0,1,2.83,0l1.4,1.43a1.91,1.91,0,0,1,.58,1.4,1.91,1.91,0,0,1-.58,1.4L9.25,21ZM18.45,9,17,7.55Zm-12,3A5.31,5.31,0,0,0,4.9,8.1,5.31,5.31,0,0,0,1,6.5,5.31,5.31,0,0,0,4.9,4.9,5.31,5.31,0,0,0,6.5,1,5.31,5.31,0,0,0,8.1,4.9,5.31,5.31,0,0,0,12,6.5,5.46,5.46,0,0,0,6.5,12Z\"/>\n",
              "  </svg>\n",
              "    </button>\n",
              "    <script>\n",
              "      (() => {\n",
              "      const buttonEl =\n",
              "        document.querySelector('#id_9d6ed288-7bee-47f9-a422-37a22969a330 button.colab-df-generate');\n",
              "      buttonEl.style.display =\n",
              "        google.colab.kernel.accessAllowed ? 'block' : 'none';\n",
              "\n",
              "      buttonEl.onclick = () => {\n",
              "        google.colab.notebook.generateWithVariable('df');\n",
              "      }\n",
              "      })();\n",
              "    </script>\n",
              "  </div>\n",
              "\n",
              "    </div>\n",
              "  </div>\n"
            ],
            "application/vnd.google.colaboratory.intrinsic+json": {
              "type": "dataframe",
              "variable_name": "df",
              "summary": "{\n  \"name\": \"df\",\n  \"rows\": 136,\n  \"fields\": [\n    {\n      \"column\": \"Town\",\n      \"properties\": {\n        \"dtype\": \"string\",\n        \"num_unique_values\": 136,\n        \"samples\": [\n          \" Sturminster Newton\",\n          \" Southwold\",\n          \" Stroud\"\n        ],\n        \"semantic_type\": \"\",\n        \"description\": \"\"\n      }\n    },\n    {\n      \"column\": \"Country\",\n      \"properties\": {\n        \"dtype\": \"category\",\n        \"num_unique_values\": 2,\n        \"samples\": [\n          \"France\",\n          \"UK\"\n        ],\n        \"semantic_type\": \"\",\n        \"description\": \"\"\n      }\n    },\n    {\n      \"column\": \"Store ID\",\n      \"properties\": {\n        \"dtype\": \"number\",\n        \"std\": 28725,\n        \"min\": 1437,\n        \"max\": 99854,\n        \"num_unique_values\": 136,\n        \"samples\": [\n          58882,\n          40676\n        ],\n        \"semantic_type\": \"\",\n        \"description\": \"\"\n      }\n    },\n    {\n      \"column\": \"Manager name\",\n      \"properties\": {\n        \"dtype\": \"string\",\n        \"num_unique_values\": 118,\n        \"samples\": [\n          \"Sophia\",\n          \"Alexander\"\n        ],\n        \"semantic_type\": \"\",\n        \"description\": \"\"\n      }\n    },\n    {\n      \"column\": \"Staff\",\n      \"properties\": {\n        \"dtype\": \"number\",\n        \"std\": 56,\n        \"min\": -2,\n        \"max\": 600,\n        \"num_unique_values\": 8,\n        \"samples\": [\n          8,\n          6\n        ],\n        \"semantic_type\": \"\",\n        \"description\": \"\"\n      }\n    },\n    {\n      \"column\": \"Floor Space\",\n      \"properties\": {\n        \"dtype\": \"number\",\n        \"std\": 2761,\n        \"min\": 10072,\n        \"max\": 19869,\n        \"num_unique_values\": 135,\n        \"samples\": [\n          17982,\n          14833\n        ],\n        \"semantic_type\": \"\",\n        \"description\": \"\"\n      }\n    },\n    {\n      \"column\": \"Window\",\n      \"properties\": {\n        \"dtype\": \"number\",\n        \"std\": 6,\n        \"min\": 100,\n        \"max\": 124,\n        \"num_unique_values\": 25,\n        \"samples\": [\n          102,\n          116\n        ],\n        \"semantic_type\": \"\",\n        \"description\": \"\"\n      }\n    },\n    {\n      \"column\": \"Car park\",\n      \"properties\": {\n        \"dtype\": \"category\",\n        \"num_unique_values\": 4,\n        \"samples\": [\n          \"No\",\n          \"N\"\n        ],\n        \"semantic_type\": \"\",\n        \"description\": \"\"\n      }\n    },\n    {\n      \"column\": \"Demographic score\",\n      \"properties\": {\n        \"dtype\": \"number\",\n        \"std\": 2,\n        \"min\": 10,\n        \"max\": 19,\n        \"num_unique_values\": 10,\n        \"samples\": [\n          13,\n          11\n        ],\n        \"semantic_type\": \"\",\n        \"description\": \"\"\n      }\n    },\n    {\n      \"column\": \"Location\",\n      \"properties\": {\n        \"dtype\": \"category\",\n        \"num_unique_values\": 4,\n        \"samples\": [\n          \"Shopping Centre\",\n          \"Village\"\n        ],\n        \"semantic_type\": \"\",\n        \"description\": \"\"\n      }\n    },\n    {\n      \"column\": \"40min population\",\n      \"properties\": {\n        \"dtype\": \"number\",\n        \"std\": 280498,\n        \"min\": 1030405,\n        \"max\": 1997044,\n        \"num_unique_values\": 136,\n        \"samples\": [\n          1087241,\n          1892976\n        ],\n        \"semantic_type\": \"\",\n        \"description\": \"\"\n      }\n    },\n    {\n      \"column\": \"30 min population\",\n      \"properties\": {\n        \"dtype\": \"number\",\n        \"std\": 216087,\n        \"min\": 1000653,\n        \"max\": 1929089,\n        \"num_unique_values\": 136,\n        \"samples\": [\n          1026797,\n          1100161\n        ],\n        \"semantic_type\": \"\",\n        \"description\": \"\"\n      }\n    },\n    {\n      \"column\": \"20 min population\",\n      \"properties\": {\n        \"dtype\": \"number\",\n        \"std\": 149027,\n        \"min\": 1000214,\n        \"max\": 1723395,\n        \"num_unique_values\": 136,\n        \"samples\": [\n          1010491,\n          1053955\n        ],\n        \"semantic_type\": \"\",\n        \"description\": \"\"\n      }\n    },\n    {\n      \"column\": \"10 min population\",\n      \"properties\": {\n        \"dtype\": \"number\",\n        \"std\": 88845,\n        \"min\": 1000002,\n        \"max\": 1426533,\n        \"num_unique_values\": 136,\n        \"samples\": [\n          1001526,\n          1005729\n        ],\n        \"semantic_type\": \"\",\n        \"description\": \"\"\n      }\n    },\n    {\n      \"column\": \"Store age\",\n      \"properties\": {\n        \"dtype\": \"number\",\n        \"std\": 2,\n        \"min\": 2,\n        \"max\": 11,\n        \"num_unique_values\": 10,\n        \"samples\": [\n          10,\n          4\n        ],\n        \"semantic_type\": \"\",\n        \"description\": \"\"\n      }\n    },\n    {\n      \"column\": \"Clearance space\",\n      \"properties\": {\n        \"dtype\": \"number\",\n        \"std\": 51,\n        \"min\": 200,\n        \"max\": 408,\n        \"num_unique_values\": 90,\n        \"samples\": [\n          263,\n          273\n        ],\n        \"semantic_type\": \"\",\n        \"description\": \"\"\n      }\n    },\n    {\n      \"column\": \"Competition number\",\n      \"properties\": {\n        \"dtype\": \"number\",\n        \"std\": 2,\n        \"min\": 10,\n        \"max\": 19,\n        \"num_unique_values\": 10,\n        \"samples\": [\n          18,\n          15\n        ],\n        \"semantic_type\": \"\",\n        \"description\": \"\"\n      }\n    },\n    {\n      \"column\": \"Competition score\",\n      \"properties\": {\n        \"dtype\": \"number\",\n        \"std\": 2,\n        \"min\": 10,\n        \"max\": 19,\n        \"num_unique_values\": 10,\n        \"samples\": [\n          17,\n          19\n        ],\n        \"semantic_type\": \"\",\n        \"description\": \"\"\n      }\n    },\n    {\n      \"column\": \"Performance\",\n      \"properties\": {\n        \"dtype\": \"category\",\n        \"num_unique_values\": 2,\n        \"samples\": [\n          \"Bad\",\n          \"Good\"\n        ],\n        \"semantic_type\": \"\",\n        \"description\": \"\"\n      }\n    }\n  ]\n}"
            }
          },
          "metadata": {},
          "execution_count": 2
        }
      ],
      "source": [
        "df = pd.read_csv(\"/content/storedata.csv\")\n",
        "df"
      ]
    },
    {
      "cell_type": "markdown",
      "source": [
        "# **EDA**"
      ],
      "metadata": {
        "id": "YYlVDvqJf42t"
      }
    },
    {
      "cell_type": "code",
      "source": [
        "#checking for duplicates\n",
        "\n",
        "duplicate_rows = df[df.duplicated()]\n",
        "duplicate_rows"
      ],
      "metadata": {
        "id": "PSKMAjHOf9oL",
        "colab": {
          "base_uri": "https://localhost:8080/",
          "height": 109
        },
        "outputId": "8d70ab06-fe35-47f4-fcf9-e0f129cf8e85"
      },
      "execution_count": null,
      "outputs": [
        {
          "output_type": "execute_result",
          "data": {
            "text/plain": [
              "Empty DataFrame\n",
              "Columns: [Town, Country, Store ID, Manager name, Staff, Floor Space, Window, Car park, Demographic score, Location, 40min population, 30 min population, 20 min population, 10 min population, Store age, Clearance space, Competition number, Competition score, Performance]\n",
              "Index: []"
            ],
            "text/html": [
              "\n",
              "  <div id=\"df-16228e80-bcf8-4c09-a6d5-74de7eac7cd5\" class=\"colab-df-container\">\n",
              "    <div>\n",
              "<style scoped>\n",
              "    .dataframe tbody tr th:only-of-type {\n",
              "        vertical-align: middle;\n",
              "    }\n",
              "\n",
              "    .dataframe tbody tr th {\n",
              "        vertical-align: top;\n",
              "    }\n",
              "\n",
              "    .dataframe thead th {\n",
              "        text-align: right;\n",
              "    }\n",
              "</style>\n",
              "<table border=\"1\" class=\"dataframe\">\n",
              "  <thead>\n",
              "    <tr style=\"text-align: right;\">\n",
              "      <th></th>\n",
              "      <th>Town</th>\n",
              "      <th>Country</th>\n",
              "      <th>Store ID</th>\n",
              "      <th>Manager name</th>\n",
              "      <th>Staff</th>\n",
              "      <th>Floor Space</th>\n",
              "      <th>Window</th>\n",
              "      <th>Car park</th>\n",
              "      <th>Demographic score</th>\n",
              "      <th>Location</th>\n",
              "      <th>40min population</th>\n",
              "      <th>30 min population</th>\n",
              "      <th>20 min population</th>\n",
              "      <th>10 min population</th>\n",
              "      <th>Store age</th>\n",
              "      <th>Clearance space</th>\n",
              "      <th>Competition number</th>\n",
              "      <th>Competition score</th>\n",
              "      <th>Performance</th>\n",
              "    </tr>\n",
              "  </thead>\n",
              "  <tbody>\n",
              "  </tbody>\n",
              "</table>\n",
              "</div>\n",
              "    <div class=\"colab-df-buttons\">\n",
              "\n",
              "  <div class=\"colab-df-container\">\n",
              "    <button class=\"colab-df-convert\" onclick=\"convertToInteractive('df-16228e80-bcf8-4c09-a6d5-74de7eac7cd5')\"\n",
              "            title=\"Convert this dataframe to an interactive table.\"\n",
              "            style=\"display:none;\">\n",
              "\n",
              "  <svg xmlns=\"http://www.w3.org/2000/svg\" height=\"24px\" viewBox=\"0 -960 960 960\">\n",
              "    <path d=\"M120-120v-720h720v720H120Zm60-500h600v-160H180v160Zm220 220h160v-160H400v160Zm0 220h160v-160H400v160ZM180-400h160v-160H180v160Zm440 0h160v-160H620v160ZM180-180h160v-160H180v160Zm440 0h160v-160H620v160Z\"/>\n",
              "  </svg>\n",
              "    </button>\n",
              "\n",
              "  <style>\n",
              "    .colab-df-container {\n",
              "      display:flex;\n",
              "      gap: 12px;\n",
              "    }\n",
              "\n",
              "    .colab-df-convert {\n",
              "      background-color: #E8F0FE;\n",
              "      border: none;\n",
              "      border-radius: 50%;\n",
              "      cursor: pointer;\n",
              "      display: none;\n",
              "      fill: #1967D2;\n",
              "      height: 32px;\n",
              "      padding: 0 0 0 0;\n",
              "      width: 32px;\n",
              "    }\n",
              "\n",
              "    .colab-df-convert:hover {\n",
              "      background-color: #E2EBFA;\n",
              "      box-shadow: 0px 1px 2px rgba(60, 64, 67, 0.3), 0px 1px 3px 1px rgba(60, 64, 67, 0.15);\n",
              "      fill: #174EA6;\n",
              "    }\n",
              "\n",
              "    .colab-df-buttons div {\n",
              "      margin-bottom: 4px;\n",
              "    }\n",
              "\n",
              "    [theme=dark] .colab-df-convert {\n",
              "      background-color: #3B4455;\n",
              "      fill: #D2E3FC;\n",
              "    }\n",
              "\n",
              "    [theme=dark] .colab-df-convert:hover {\n",
              "      background-color: #434B5C;\n",
              "      box-shadow: 0px 1px 3px 1px rgba(0, 0, 0, 0.15);\n",
              "      filter: drop-shadow(0px 1px 2px rgba(0, 0, 0, 0.3));\n",
              "      fill: #FFFFFF;\n",
              "    }\n",
              "  </style>\n",
              "\n",
              "    <script>\n",
              "      const buttonEl =\n",
              "        document.querySelector('#df-16228e80-bcf8-4c09-a6d5-74de7eac7cd5 button.colab-df-convert');\n",
              "      buttonEl.style.display =\n",
              "        google.colab.kernel.accessAllowed ? 'block' : 'none';\n",
              "\n",
              "      async function convertToInteractive(key) {\n",
              "        const element = document.querySelector('#df-16228e80-bcf8-4c09-a6d5-74de7eac7cd5');\n",
              "        const dataTable =\n",
              "          await google.colab.kernel.invokeFunction('convertToInteractive',\n",
              "                                                    [key], {});\n",
              "        if (!dataTable) return;\n",
              "\n",
              "        const docLinkHtml = 'Like what you see? Visit the ' +\n",
              "          '<a target=\"_blank\" href=https://colab.research.google.com/notebooks/data_table.ipynb>data table notebook</a>'\n",
              "          + ' to learn more about interactive tables.';\n",
              "        element.innerHTML = '';\n",
              "        dataTable['output_type'] = 'display_data';\n",
              "        await google.colab.output.renderOutput(dataTable, element);\n",
              "        const docLink = document.createElement('div');\n",
              "        docLink.innerHTML = docLinkHtml;\n",
              "        element.appendChild(docLink);\n",
              "      }\n",
              "    </script>\n",
              "  </div>\n",
              "\n",
              "\n",
              "  <div id=\"id_de534f7b-2bc3-4b3b-ad77-339ba0e5d081\">\n",
              "    <style>\n",
              "      .colab-df-generate {\n",
              "        background-color: #E8F0FE;\n",
              "        border: none;\n",
              "        border-radius: 50%;\n",
              "        cursor: pointer;\n",
              "        display: none;\n",
              "        fill: #1967D2;\n",
              "        height: 32px;\n",
              "        padding: 0 0 0 0;\n",
              "        width: 32px;\n",
              "      }\n",
              "\n",
              "      .colab-df-generate:hover {\n",
              "        background-color: #E2EBFA;\n",
              "        box-shadow: 0px 1px 2px rgba(60, 64, 67, 0.3), 0px 1px 3px 1px rgba(60, 64, 67, 0.15);\n",
              "        fill: #174EA6;\n",
              "      }\n",
              "\n",
              "      [theme=dark] .colab-df-generate {\n",
              "        background-color: #3B4455;\n",
              "        fill: #D2E3FC;\n",
              "      }\n",
              "\n",
              "      [theme=dark] .colab-df-generate:hover {\n",
              "        background-color: #434B5C;\n",
              "        box-shadow: 0px 1px 3px 1px rgba(0, 0, 0, 0.15);\n",
              "        filter: drop-shadow(0px 1px 2px rgba(0, 0, 0, 0.3));\n",
              "        fill: #FFFFFF;\n",
              "      }\n",
              "    </style>\n",
              "    <button class=\"colab-df-generate\" onclick=\"generateWithVariable('duplicate_rows')\"\n",
              "            title=\"Generate code using this dataframe.\"\n",
              "            style=\"display:none;\">\n",
              "\n",
              "  <svg xmlns=\"http://www.w3.org/2000/svg\" height=\"24px\"viewBox=\"0 0 24 24\"\n",
              "       width=\"24px\">\n",
              "    <path d=\"M7,19H8.4L18.45,9,17,7.55,7,17.6ZM5,21V16.75L18.45,3.32a2,2,0,0,1,2.83,0l1.4,1.43a1.91,1.91,0,0,1,.58,1.4,1.91,1.91,0,0,1-.58,1.4L9.25,21ZM18.45,9,17,7.55Zm-12,3A5.31,5.31,0,0,0,4.9,8.1,5.31,5.31,0,0,0,1,6.5,5.31,5.31,0,0,0,4.9,4.9,5.31,5.31,0,0,0,6.5,1,5.31,5.31,0,0,0,8.1,4.9,5.31,5.31,0,0,0,12,6.5,5.46,5.46,0,0,0,6.5,12Z\"/>\n",
              "  </svg>\n",
              "    </button>\n",
              "    <script>\n",
              "      (() => {\n",
              "      const buttonEl =\n",
              "        document.querySelector('#id_de534f7b-2bc3-4b3b-ad77-339ba0e5d081 button.colab-df-generate');\n",
              "      buttonEl.style.display =\n",
              "        google.colab.kernel.accessAllowed ? 'block' : 'none';\n",
              "\n",
              "      buttonEl.onclick = () => {\n",
              "        google.colab.notebook.generateWithVariable('duplicate_rows');\n",
              "      }\n",
              "      })();\n",
              "    </script>\n",
              "  </div>\n",
              "\n",
              "    </div>\n",
              "  </div>\n"
            ],
            "application/vnd.google.colaboratory.intrinsic+json": {
              "type": "dataframe",
              "variable_name": "duplicate_rows",
              "repr_error": "Out of range float values are not JSON compliant: nan"
            }
          },
          "metadata": {},
          "execution_count": 3
        }
      ]
    },
    {
      "cell_type": "code",
      "source": [
        "#checking for missing values or null values\n",
        "\n",
        "df.isnull().sum()"
      ],
      "metadata": {
        "id": "QKak4xlMfz25",
        "colab": {
          "base_uri": "https://localhost:8080/"
        },
        "outputId": "d4a0831f-4bf6-48ff-e6e1-00de57d4ec30"
      },
      "execution_count": null,
      "outputs": [
        {
          "output_type": "execute_result",
          "data": {
            "text/plain": [
              "Town                  0\n",
              "Country               0\n",
              "Store ID              0\n",
              "Manager name          0\n",
              "Staff                 0\n",
              "Floor Space           0\n",
              "Window                0\n",
              "Car park              0\n",
              "Demographic score     0\n",
              "Location              0\n",
              "40min population      0\n",
              "30 min population     0\n",
              "20 min population     0\n",
              "10 min population     0\n",
              "Store age             0\n",
              "Clearance space       0\n",
              "Competition number    0\n",
              "Competition score     0\n",
              "Performance           0\n",
              "dtype: int64"
            ]
          },
          "metadata": {},
          "execution_count": 4
        }
      ]
    },
    {
      "cell_type": "code",
      "source": [
        "df.describe()"
      ],
      "metadata": {
        "id": "ju3kNs7VhIv3",
        "colab": {
          "base_uri": "https://localhost:8080/",
          "height": 338
        },
        "outputId": "8d4de7ab-0a82-4ccd-c33f-58f445fd1678"
      },
      "execution_count": null,
      "outputs": [
        {
          "output_type": "execute_result",
          "data": {
            "text/plain": [
              "           Store ID       Staff   Floor Space      Window  Demographic score  \\\n",
              "count    136.000000  136.000000    136.000000  136.000000         136.000000   \n",
              "mean   52172.580882   13.352941  15024.095588  112.044118          14.463235   \n",
              "std    28725.990237   56.592439   2761.801921    6.884085           2.874944   \n",
              "min     1437.000000   -2.000000  10072.000000  100.000000          10.000000   \n",
              "25%    24707.250000    6.000000  12793.000000  106.750000          12.000000   \n",
              "50%    56011.500000    7.000000  14596.500000  111.000000          14.500000   \n",
              "75%    76870.500000    8.000000  17543.750000  118.000000          17.000000   \n",
              "max    99854.000000  600.000000  19869.000000  124.000000          19.000000   \n",
              "\n",
              "       40min population  30 min population  20 min population  \\\n",
              "count      1.360000e+02       1.360000e+02       1.360000e+02   \n",
              "mean       1.487374e+06       1.249870e+06       1.134533e+06   \n",
              "std        2.804989e+05       2.160875e+05       1.490280e+05   \n",
              "min        1.030405e+06       1.000653e+06       1.000214e+06   \n",
              "25%        1.254949e+06       1.057284e+06       1.012573e+06   \n",
              "50%        1.516338e+06       1.214459e+06       1.077542e+06   \n",
              "75%        1.696352e+06       1.396967e+06       1.203077e+06   \n",
              "max        1.997044e+06       1.929089e+06       1.723395e+06   \n",
              "\n",
              "       10 min population   Store age  Clearance space  Competition number  \\\n",
              "count       1.360000e+02  136.000000       136.000000          136.000000   \n",
              "mean        1.066118e+06    6.529412       262.426471           14.463235   \n",
              "std         8.884585e+04    2.815147        51.724288            2.895483   \n",
              "min         1.000002e+06    2.000000       200.000000           10.000000   \n",
              "25%         1.005593e+06    4.000000       220.750000           12.000000   \n",
              "50%         1.033228e+06    6.000000       249.000000           15.000000   \n",
              "75%         1.090349e+06    9.000000       292.250000           17.000000   \n",
              "max         1.426533e+06   11.000000       408.000000           19.000000   \n",
              "\n",
              "       Competition score  \n",
              "count         136.000000  \n",
              "mean           14.808824  \n",
              "std             2.955258  \n",
              "min            10.000000  \n",
              "25%            13.000000  \n",
              "50%            15.000000  \n",
              "75%            18.000000  \n",
              "max            19.000000  "
            ],
            "text/html": [
              "\n",
              "  <div id=\"df-b701005f-c9cf-44cc-ad63-c6947a19591e\" class=\"colab-df-container\">\n",
              "    <div>\n",
              "<style scoped>\n",
              "    .dataframe tbody tr th:only-of-type {\n",
              "        vertical-align: middle;\n",
              "    }\n",
              "\n",
              "    .dataframe tbody tr th {\n",
              "        vertical-align: top;\n",
              "    }\n",
              "\n",
              "    .dataframe thead th {\n",
              "        text-align: right;\n",
              "    }\n",
              "</style>\n",
              "<table border=\"1\" class=\"dataframe\">\n",
              "  <thead>\n",
              "    <tr style=\"text-align: right;\">\n",
              "      <th></th>\n",
              "      <th>Store ID</th>\n",
              "      <th>Staff</th>\n",
              "      <th>Floor Space</th>\n",
              "      <th>Window</th>\n",
              "      <th>Demographic score</th>\n",
              "      <th>40min population</th>\n",
              "      <th>30 min population</th>\n",
              "      <th>20 min population</th>\n",
              "      <th>10 min population</th>\n",
              "      <th>Store age</th>\n",
              "      <th>Clearance space</th>\n",
              "      <th>Competition number</th>\n",
              "      <th>Competition score</th>\n",
              "    </tr>\n",
              "  </thead>\n",
              "  <tbody>\n",
              "    <tr>\n",
              "      <th>count</th>\n",
              "      <td>136.000000</td>\n",
              "      <td>136.000000</td>\n",
              "      <td>136.000000</td>\n",
              "      <td>136.000000</td>\n",
              "      <td>136.000000</td>\n",
              "      <td>1.360000e+02</td>\n",
              "      <td>1.360000e+02</td>\n",
              "      <td>1.360000e+02</td>\n",
              "      <td>1.360000e+02</td>\n",
              "      <td>136.000000</td>\n",
              "      <td>136.000000</td>\n",
              "      <td>136.000000</td>\n",
              "      <td>136.000000</td>\n",
              "    </tr>\n",
              "    <tr>\n",
              "      <th>mean</th>\n",
              "      <td>52172.580882</td>\n",
              "      <td>13.352941</td>\n",
              "      <td>15024.095588</td>\n",
              "      <td>112.044118</td>\n",
              "      <td>14.463235</td>\n",
              "      <td>1.487374e+06</td>\n",
              "      <td>1.249870e+06</td>\n",
              "      <td>1.134533e+06</td>\n",
              "      <td>1.066118e+06</td>\n",
              "      <td>6.529412</td>\n",
              "      <td>262.426471</td>\n",
              "      <td>14.463235</td>\n",
              "      <td>14.808824</td>\n",
              "    </tr>\n",
              "    <tr>\n",
              "      <th>std</th>\n",
              "      <td>28725.990237</td>\n",
              "      <td>56.592439</td>\n",
              "      <td>2761.801921</td>\n",
              "      <td>6.884085</td>\n",
              "      <td>2.874944</td>\n",
              "      <td>2.804989e+05</td>\n",
              "      <td>2.160875e+05</td>\n",
              "      <td>1.490280e+05</td>\n",
              "      <td>8.884585e+04</td>\n",
              "      <td>2.815147</td>\n",
              "      <td>51.724288</td>\n",
              "      <td>2.895483</td>\n",
              "      <td>2.955258</td>\n",
              "    </tr>\n",
              "    <tr>\n",
              "      <th>min</th>\n",
              "      <td>1437.000000</td>\n",
              "      <td>-2.000000</td>\n",
              "      <td>10072.000000</td>\n",
              "      <td>100.000000</td>\n",
              "      <td>10.000000</td>\n",
              "      <td>1.030405e+06</td>\n",
              "      <td>1.000653e+06</td>\n",
              "      <td>1.000214e+06</td>\n",
              "      <td>1.000002e+06</td>\n",
              "      <td>2.000000</td>\n",
              "      <td>200.000000</td>\n",
              "      <td>10.000000</td>\n",
              "      <td>10.000000</td>\n",
              "    </tr>\n",
              "    <tr>\n",
              "      <th>25%</th>\n",
              "      <td>24707.250000</td>\n",
              "      <td>6.000000</td>\n",
              "      <td>12793.000000</td>\n",
              "      <td>106.750000</td>\n",
              "      <td>12.000000</td>\n",
              "      <td>1.254949e+06</td>\n",
              "      <td>1.057284e+06</td>\n",
              "      <td>1.012573e+06</td>\n",
              "      <td>1.005593e+06</td>\n",
              "      <td>4.000000</td>\n",
              "      <td>220.750000</td>\n",
              "      <td>12.000000</td>\n",
              "      <td>13.000000</td>\n",
              "    </tr>\n",
              "    <tr>\n",
              "      <th>50%</th>\n",
              "      <td>56011.500000</td>\n",
              "      <td>7.000000</td>\n",
              "      <td>14596.500000</td>\n",
              "      <td>111.000000</td>\n",
              "      <td>14.500000</td>\n",
              "      <td>1.516338e+06</td>\n",
              "      <td>1.214459e+06</td>\n",
              "      <td>1.077542e+06</td>\n",
              "      <td>1.033228e+06</td>\n",
              "      <td>6.000000</td>\n",
              "      <td>249.000000</td>\n",
              "      <td>15.000000</td>\n",
              "      <td>15.000000</td>\n",
              "    </tr>\n",
              "    <tr>\n",
              "      <th>75%</th>\n",
              "      <td>76870.500000</td>\n",
              "      <td>8.000000</td>\n",
              "      <td>17543.750000</td>\n",
              "      <td>118.000000</td>\n",
              "      <td>17.000000</td>\n",
              "      <td>1.696352e+06</td>\n",
              "      <td>1.396967e+06</td>\n",
              "      <td>1.203077e+06</td>\n",
              "      <td>1.090349e+06</td>\n",
              "      <td>9.000000</td>\n",
              "      <td>292.250000</td>\n",
              "      <td>17.000000</td>\n",
              "      <td>18.000000</td>\n",
              "    </tr>\n",
              "    <tr>\n",
              "      <th>max</th>\n",
              "      <td>99854.000000</td>\n",
              "      <td>600.000000</td>\n",
              "      <td>19869.000000</td>\n",
              "      <td>124.000000</td>\n",
              "      <td>19.000000</td>\n",
              "      <td>1.997044e+06</td>\n",
              "      <td>1.929089e+06</td>\n",
              "      <td>1.723395e+06</td>\n",
              "      <td>1.426533e+06</td>\n",
              "      <td>11.000000</td>\n",
              "      <td>408.000000</td>\n",
              "      <td>19.000000</td>\n",
              "      <td>19.000000</td>\n",
              "    </tr>\n",
              "  </tbody>\n",
              "</table>\n",
              "</div>\n",
              "    <div class=\"colab-df-buttons\">\n",
              "\n",
              "  <div class=\"colab-df-container\">\n",
              "    <button class=\"colab-df-convert\" onclick=\"convertToInteractive('df-b701005f-c9cf-44cc-ad63-c6947a19591e')\"\n",
              "            title=\"Convert this dataframe to an interactive table.\"\n",
              "            style=\"display:none;\">\n",
              "\n",
              "  <svg xmlns=\"http://www.w3.org/2000/svg\" height=\"24px\" viewBox=\"0 -960 960 960\">\n",
              "    <path d=\"M120-120v-720h720v720H120Zm60-500h600v-160H180v160Zm220 220h160v-160H400v160Zm0 220h160v-160H400v160ZM180-400h160v-160H180v160Zm440 0h160v-160H620v160ZM180-180h160v-160H180v160Zm440 0h160v-160H620v160Z\"/>\n",
              "  </svg>\n",
              "    </button>\n",
              "\n",
              "  <style>\n",
              "    .colab-df-container {\n",
              "      display:flex;\n",
              "      gap: 12px;\n",
              "    }\n",
              "\n",
              "    .colab-df-convert {\n",
              "      background-color: #E8F0FE;\n",
              "      border: none;\n",
              "      border-radius: 50%;\n",
              "      cursor: pointer;\n",
              "      display: none;\n",
              "      fill: #1967D2;\n",
              "      height: 32px;\n",
              "      padding: 0 0 0 0;\n",
              "      width: 32px;\n",
              "    }\n",
              "\n",
              "    .colab-df-convert:hover {\n",
              "      background-color: #E2EBFA;\n",
              "      box-shadow: 0px 1px 2px rgba(60, 64, 67, 0.3), 0px 1px 3px 1px rgba(60, 64, 67, 0.15);\n",
              "      fill: #174EA6;\n",
              "    }\n",
              "\n",
              "    .colab-df-buttons div {\n",
              "      margin-bottom: 4px;\n",
              "    }\n",
              "\n",
              "    [theme=dark] .colab-df-convert {\n",
              "      background-color: #3B4455;\n",
              "      fill: #D2E3FC;\n",
              "    }\n",
              "\n",
              "    [theme=dark] .colab-df-convert:hover {\n",
              "      background-color: #434B5C;\n",
              "      box-shadow: 0px 1px 3px 1px rgba(0, 0, 0, 0.15);\n",
              "      filter: drop-shadow(0px 1px 2px rgba(0, 0, 0, 0.3));\n",
              "      fill: #FFFFFF;\n",
              "    }\n",
              "  </style>\n",
              "\n",
              "    <script>\n",
              "      const buttonEl =\n",
              "        document.querySelector('#df-b701005f-c9cf-44cc-ad63-c6947a19591e button.colab-df-convert');\n",
              "      buttonEl.style.display =\n",
              "        google.colab.kernel.accessAllowed ? 'block' : 'none';\n",
              "\n",
              "      async function convertToInteractive(key) {\n",
              "        const element = document.querySelector('#df-b701005f-c9cf-44cc-ad63-c6947a19591e');\n",
              "        const dataTable =\n",
              "          await google.colab.kernel.invokeFunction('convertToInteractive',\n",
              "                                                    [key], {});\n",
              "        if (!dataTable) return;\n",
              "\n",
              "        const docLinkHtml = 'Like what you see? Visit the ' +\n",
              "          '<a target=\"_blank\" href=https://colab.research.google.com/notebooks/data_table.ipynb>data table notebook</a>'\n",
              "          + ' to learn more about interactive tables.';\n",
              "        element.innerHTML = '';\n",
              "        dataTable['output_type'] = 'display_data';\n",
              "        await google.colab.output.renderOutput(dataTable, element);\n",
              "        const docLink = document.createElement('div');\n",
              "        docLink.innerHTML = docLinkHtml;\n",
              "        element.appendChild(docLink);\n",
              "      }\n",
              "    </script>\n",
              "  </div>\n",
              "\n",
              "\n",
              "<div id=\"df-151133a1-fd03-4329-88d3-6e945d5c003a\">\n",
              "  <button class=\"colab-df-quickchart\" onclick=\"quickchart('df-151133a1-fd03-4329-88d3-6e945d5c003a')\"\n",
              "            title=\"Suggest charts\"\n",
              "            style=\"display:none;\">\n",
              "\n",
              "<svg xmlns=\"http://www.w3.org/2000/svg\" height=\"24px\"viewBox=\"0 0 24 24\"\n",
              "     width=\"24px\">\n",
              "    <g>\n",
              "        <path d=\"M19 3H5c-1.1 0-2 .9-2 2v14c0 1.1.9 2 2 2h14c1.1 0 2-.9 2-2V5c0-1.1-.9-2-2-2zM9 17H7v-7h2v7zm4 0h-2V7h2v10zm4 0h-2v-4h2v4z\"/>\n",
              "    </g>\n",
              "</svg>\n",
              "  </button>\n",
              "\n",
              "<style>\n",
              "  .colab-df-quickchart {\n",
              "      --bg-color: #E8F0FE;\n",
              "      --fill-color: #1967D2;\n",
              "      --hover-bg-color: #E2EBFA;\n",
              "      --hover-fill-color: #174EA6;\n",
              "      --disabled-fill-color: #AAA;\n",
              "      --disabled-bg-color: #DDD;\n",
              "  }\n",
              "\n",
              "  [theme=dark] .colab-df-quickchart {\n",
              "      --bg-color: #3B4455;\n",
              "      --fill-color: #D2E3FC;\n",
              "      --hover-bg-color: #434B5C;\n",
              "      --hover-fill-color: #FFFFFF;\n",
              "      --disabled-bg-color: #3B4455;\n",
              "      --disabled-fill-color: #666;\n",
              "  }\n",
              "\n",
              "  .colab-df-quickchart {\n",
              "    background-color: var(--bg-color);\n",
              "    border: none;\n",
              "    border-radius: 50%;\n",
              "    cursor: pointer;\n",
              "    display: none;\n",
              "    fill: var(--fill-color);\n",
              "    height: 32px;\n",
              "    padding: 0;\n",
              "    width: 32px;\n",
              "  }\n",
              "\n",
              "  .colab-df-quickchart:hover {\n",
              "    background-color: var(--hover-bg-color);\n",
              "    box-shadow: 0 1px 2px rgba(60, 64, 67, 0.3), 0 1px 3px 1px rgba(60, 64, 67, 0.15);\n",
              "    fill: var(--button-hover-fill-color);\n",
              "  }\n",
              "\n",
              "  .colab-df-quickchart-complete:disabled,\n",
              "  .colab-df-quickchart-complete:disabled:hover {\n",
              "    background-color: var(--disabled-bg-color);\n",
              "    fill: var(--disabled-fill-color);\n",
              "    box-shadow: none;\n",
              "  }\n",
              "\n",
              "  .colab-df-spinner {\n",
              "    border: 2px solid var(--fill-color);\n",
              "    border-color: transparent;\n",
              "    border-bottom-color: var(--fill-color);\n",
              "    animation:\n",
              "      spin 1s steps(1) infinite;\n",
              "  }\n",
              "\n",
              "  @keyframes spin {\n",
              "    0% {\n",
              "      border-color: transparent;\n",
              "      border-bottom-color: var(--fill-color);\n",
              "      border-left-color: var(--fill-color);\n",
              "    }\n",
              "    20% {\n",
              "      border-color: transparent;\n",
              "      border-left-color: var(--fill-color);\n",
              "      border-top-color: var(--fill-color);\n",
              "    }\n",
              "    30% {\n",
              "      border-color: transparent;\n",
              "      border-left-color: var(--fill-color);\n",
              "      border-top-color: var(--fill-color);\n",
              "      border-right-color: var(--fill-color);\n",
              "    }\n",
              "    40% {\n",
              "      border-color: transparent;\n",
              "      border-right-color: var(--fill-color);\n",
              "      border-top-color: var(--fill-color);\n",
              "    }\n",
              "    60% {\n",
              "      border-color: transparent;\n",
              "      border-right-color: var(--fill-color);\n",
              "    }\n",
              "    80% {\n",
              "      border-color: transparent;\n",
              "      border-right-color: var(--fill-color);\n",
              "      border-bottom-color: var(--fill-color);\n",
              "    }\n",
              "    90% {\n",
              "      border-color: transparent;\n",
              "      border-bottom-color: var(--fill-color);\n",
              "    }\n",
              "  }\n",
              "</style>\n",
              "\n",
              "  <script>\n",
              "    async function quickchart(key) {\n",
              "      const quickchartButtonEl =\n",
              "        document.querySelector('#' + key + ' button');\n",
              "      quickchartButtonEl.disabled = true;  // To prevent multiple clicks.\n",
              "      quickchartButtonEl.classList.add('colab-df-spinner');\n",
              "      try {\n",
              "        const charts = await google.colab.kernel.invokeFunction(\n",
              "            'suggestCharts', [key], {});\n",
              "      } catch (error) {\n",
              "        console.error('Error during call to suggestCharts:', error);\n",
              "      }\n",
              "      quickchartButtonEl.classList.remove('colab-df-spinner');\n",
              "      quickchartButtonEl.classList.add('colab-df-quickchart-complete');\n",
              "    }\n",
              "    (() => {\n",
              "      let quickchartButtonEl =\n",
              "        document.querySelector('#df-151133a1-fd03-4329-88d3-6e945d5c003a button');\n",
              "      quickchartButtonEl.style.display =\n",
              "        google.colab.kernel.accessAllowed ? 'block' : 'none';\n",
              "    })();\n",
              "  </script>\n",
              "</div>\n",
              "\n",
              "    </div>\n",
              "  </div>\n"
            ],
            "application/vnd.google.colaboratory.intrinsic+json": {
              "type": "dataframe",
              "summary": "{\n  \"name\": \"df\",\n  \"rows\": 8,\n  \"fields\": [\n    {\n      \"column\": \"Store ID\",\n      \"properties\": {\n        \"dtype\": \"number\",\n        \"std\": 35323.23172200493,\n        \"min\": 136.0,\n        \"max\": 99854.0,\n        \"num_unique_values\": 8,\n        \"samples\": [\n          52172.580882352944,\n          56011.5,\n          136.0\n        ],\n        \"semantic_type\": \"\",\n        \"description\": \"\"\n      }\n    },\n    {\n      \"column\": \"Staff\",\n      \"properties\": {\n        \"dtype\": \"number\",\n        \"std\": 205.96918811387567,\n        \"min\": -2.0,\n        \"max\": 600.0,\n        \"num_unique_values\": 8,\n        \"samples\": [\n          13.352941176470589,\n          7.0,\n          136.0\n        ],\n        \"semantic_type\": \"\",\n        \"description\": \"\"\n      }\n    },\n    {\n      \"column\": \"Floor Space\",\n      \"properties\": {\n        \"dtype\": \"number\",\n        \"std\": 6945.739087905543,\n        \"min\": 136.0,\n        \"max\": 19869.0,\n        \"num_unique_values\": 8,\n        \"samples\": [\n          15024.095588235294,\n          14596.5,\n          136.0\n        ],\n        \"semantic_type\": \"\",\n        \"description\": \"\"\n      }\n    },\n    {\n      \"column\": \"Window\",\n      \"properties\": {\n        \"dtype\": \"number\",\n        \"std\": 39.912879439231155,\n        \"min\": 6.884085401001274,\n        \"max\": 136.0,\n        \"num_unique_values\": 8,\n        \"samples\": [\n          112.04411764705883,\n          111.0,\n          136.0\n        ],\n        \"semantic_type\": \"\",\n        \"description\": \"\"\n      }\n    },\n    {\n      \"column\": \"Demographic score\",\n      \"properties\": {\n        \"dtype\": \"number\",\n        \"std\": 43.8216190238644,\n        \"min\": 2.8749443491819537,\n        \"max\": 136.0,\n        \"num_unique_values\": 8,\n        \"samples\": [\n          14.463235294117647,\n          14.5,\n          136.0\n        ],\n        \"semantic_type\": \"\",\n        \"description\": \"\"\n      }\n    },\n    {\n      \"column\": \"40min population\",\n      \"properties\": {\n        \"dtype\": \"number\",\n        \"std\": 693546.6050647289,\n        \"min\": 136.0,\n        \"max\": 1997044.0,\n        \"num_unique_values\": 8,\n        \"samples\": [\n          1487374.4779411764,\n          1516337.5,\n          136.0\n        ],\n        \"semantic_type\": \"\",\n        \"description\": \"\"\n      }\n    },\n    {\n      \"column\": \"30 min population\",\n      \"properties\": {\n        \"dtype\": \"number\",\n        \"std\": 626352.7695595054,\n        \"min\": 136.0,\n        \"max\": 1929089.0,\n        \"num_unique_values\": 8,\n        \"samples\": [\n          1249869.9411764706,\n          1214459.0,\n          136.0\n        ],\n        \"semantic_type\": \"\",\n        \"description\": \"\"\n      }\n    },\n    {\n      \"column\": \"20 min population\",\n      \"properties\": {\n        \"dtype\": \"number\",\n        \"std\": 567139.2922695217,\n        \"min\": 136.0,\n        \"max\": 1723395.0,\n        \"num_unique_values\": 8,\n        \"samples\": [\n          1134532.7647058824,\n          1077542.0,\n          136.0\n        ],\n        \"semantic_type\": \"\",\n        \"description\": \"\"\n      }\n    },\n    {\n      \"column\": \"10 min population\",\n      \"properties\": {\n        \"dtype\": \"number\",\n        \"std\": 509590.48942550004,\n        \"min\": 136.0,\n        \"max\": 1426533.0,\n        \"num_unique_values\": 8,\n        \"samples\": [\n          1066117.7352941176,\n          1033228.5,\n          136.0\n        ],\n        \"semantic_type\": \"\",\n        \"description\": \"\"\n      }\n    },\n    {\n      \"column\": \"Store age\",\n      \"properties\": {\n        \"dtype\": \"number\",\n        \"std\": 46.09488923108415,\n        \"min\": 2.0,\n        \"max\": 136.0,\n        \"num_unique_values\": 8,\n        \"samples\": [\n          6.529411764705882,\n          6.0,\n          136.0\n        ],\n        \"semantic_type\": \"\",\n        \"description\": \"\"\n      }\n    },\n    {\n      \"column\": \"Clearance space\",\n      \"properties\": {\n        \"dtype\": \"number\",\n        \"std\": 105.91511524674897,\n        \"min\": 51.72428791954814,\n        \"max\": 408.0,\n        \"num_unique_values\": 8,\n        \"samples\": [\n          262.4264705882353,\n          249.0,\n          136.0\n        ],\n        \"semantic_type\": \"\",\n        \"description\": \"\"\n      }\n    },\n    {\n      \"column\": \"Competition number\",\n      \"properties\": {\n        \"dtype\": \"number\",\n        \"std\": 43.79788858799537,\n        \"min\": 2.8954832980716305,\n        \"max\": 136.0,\n        \"num_unique_values\": 8,\n        \"samples\": [\n          14.463235294117647,\n          15.0,\n          136.0\n        ],\n        \"semantic_type\": \"\",\n        \"description\": \"\"\n      }\n    },\n    {\n      \"column\": \"Competition score\",\n      \"properties\": {\n        \"dtype\": \"number\",\n        \"std\": 43.689503753672135,\n        \"min\": 2.9552582286928972,\n        \"max\": 136.0,\n        \"num_unique_values\": 8,\n        \"samples\": [\n          14.808823529411764,\n          15.0,\n          136.0\n        ],\n        \"semantic_type\": \"\",\n        \"description\": \"\"\n      }\n    }\n  ]\n}"
            }
          },
          "metadata": {},
          "execution_count": 5
        }
      ]
    },
    {
      "cell_type": "code",
      "source": [
        "#Applying Hypothesis testing to check if there's any diiference b/w Competition number and competition score\n",
        "\n",
        "from scipy import stats\n",
        "\n",
        "t_statistic, p_value = stats.ttest_ind(df['Competition number'], df['Competition score'])\n",
        "\n",
        "\n",
        "print(\"Independent t-test results:\")\n",
        "print(\"T-statistic:\", t_statistic)\n",
        "print(\"P-value:\", p_value)\n",
        "\n",
        "\n",
        "alpha = 0.05\n",
        "if p_value < alpha:\n",
        "    print(\"Reject the null hypothesis. There is a significant difference between the means of the two groups.\")\n",
        "else:\n",
        "    print(\"Fail to reject the null hypothesis. There is no significant difference between the means of the two groups.\")"
      ],
      "metadata": {
        "id": "ykZcOrhuh9Jj",
        "colab": {
          "base_uri": "https://localhost:8080/"
        },
        "outputId": "481353d7-f08c-4fc9-8840-466e20b9bb7a"
      },
      "execution_count": null,
      "outputs": [
        {
          "output_type": "stream",
          "name": "stdout",
          "text": [
            "Independent t-test results:\n",
            "T-statistic: -0.9741140887468758\n",
            "P-value: 0.3308718001199975\n",
            "Fail to reject the null hypothesis. There is no significant difference between the means of the two groups.\n"
          ]
        }
      ]
    },
    {
      "cell_type": "code",
      "source": [
        "#removing irrelavent feature\n",
        "\n",
        "df.drop(['Town','Country','Manager name','Competition number'],axis=1,inplace=True)\n",
        "df.head()"
      ],
      "metadata": {
        "id": "PDnB2LOOqkWG",
        "colab": {
          "base_uri": "https://localhost:8080/",
          "height": 330
        },
        "outputId": "216f9d32-584d-4cc3-89f5-2df4732bd438"
      },
      "execution_count": null,
      "outputs": [
        {
          "output_type": "execute_result",
          "data": {
            "text/plain": [
              "   Store ID  Staff  Floor Space  Window Car park  Demographic score  \\\n",
              "0      1437      9        18526     121      Yes                 10   \n",
              "1      1544      8        18569     121      Yes                 11   \n",
              "2      2039     -2        12288     105       No                 12   \n",
              "3      2055      7        17092     117       No                 14   \n",
              "4      2141      7        11307     103       No                 18   \n",
              "\n",
              "          Location  40min population  30 min population  20 min population  \\\n",
              "0      Retail Park           1288374            1138224            1006986   \n",
              "1  Shopping Centre           1086225            1015321            1012182   \n",
              "2      Retail Park           1595638            1281661            1104490   \n",
              "3      High Street           1179395            1022959            1009496   \n",
              "4      Retail Park           1398558            1085170            1003137   \n",
              "\n",
              "   10 min population  Store age  Clearance space  Competition score  \\\n",
              "0            1002340          3              238                 16   \n",
              "1            1008436          4              384                 19   \n",
              "2            1011395         11              219                 18   \n",
              "3            1002169          5              261                 12   \n",
              "4            1002513          7              200                 13   \n",
              "\n",
              "  Performance  \n",
              "0        Good  \n",
              "1        Good  \n",
              "2         Bad  \n",
              "3         Bad  \n",
              "4         Bad  "
            ],
            "text/html": [
              "\n",
              "  <div id=\"df-1f4b4c02-f24e-4c7e-ab1f-84282148890f\" class=\"colab-df-container\">\n",
              "    <div>\n",
              "<style scoped>\n",
              "    .dataframe tbody tr th:only-of-type {\n",
              "        vertical-align: middle;\n",
              "    }\n",
              "\n",
              "    .dataframe tbody tr th {\n",
              "        vertical-align: top;\n",
              "    }\n",
              "\n",
              "    .dataframe thead th {\n",
              "        text-align: right;\n",
              "    }\n",
              "</style>\n",
              "<table border=\"1\" class=\"dataframe\">\n",
              "  <thead>\n",
              "    <tr style=\"text-align: right;\">\n",
              "      <th></th>\n",
              "      <th>Store ID</th>\n",
              "      <th>Staff</th>\n",
              "      <th>Floor Space</th>\n",
              "      <th>Window</th>\n",
              "      <th>Car park</th>\n",
              "      <th>Demographic score</th>\n",
              "      <th>Location</th>\n",
              "      <th>40min population</th>\n",
              "      <th>30 min population</th>\n",
              "      <th>20 min population</th>\n",
              "      <th>10 min population</th>\n",
              "      <th>Store age</th>\n",
              "      <th>Clearance space</th>\n",
              "      <th>Competition score</th>\n",
              "      <th>Performance</th>\n",
              "    </tr>\n",
              "  </thead>\n",
              "  <tbody>\n",
              "    <tr>\n",
              "      <th>0</th>\n",
              "      <td>1437</td>\n",
              "      <td>9</td>\n",
              "      <td>18526</td>\n",
              "      <td>121</td>\n",
              "      <td>Yes</td>\n",
              "      <td>10</td>\n",
              "      <td>Retail Park</td>\n",
              "      <td>1288374</td>\n",
              "      <td>1138224</td>\n",
              "      <td>1006986</td>\n",
              "      <td>1002340</td>\n",
              "      <td>3</td>\n",
              "      <td>238</td>\n",
              "      <td>16</td>\n",
              "      <td>Good</td>\n",
              "    </tr>\n",
              "    <tr>\n",
              "      <th>1</th>\n",
              "      <td>1544</td>\n",
              "      <td>8</td>\n",
              "      <td>18569</td>\n",
              "      <td>121</td>\n",
              "      <td>Yes</td>\n",
              "      <td>11</td>\n",
              "      <td>Shopping Centre</td>\n",
              "      <td>1086225</td>\n",
              "      <td>1015321</td>\n",
              "      <td>1012182</td>\n",
              "      <td>1008436</td>\n",
              "      <td>4</td>\n",
              "      <td>384</td>\n",
              "      <td>19</td>\n",
              "      <td>Good</td>\n",
              "    </tr>\n",
              "    <tr>\n",
              "      <th>2</th>\n",
              "      <td>2039</td>\n",
              "      <td>-2</td>\n",
              "      <td>12288</td>\n",
              "      <td>105</td>\n",
              "      <td>No</td>\n",
              "      <td>12</td>\n",
              "      <td>Retail Park</td>\n",
              "      <td>1595638</td>\n",
              "      <td>1281661</td>\n",
              "      <td>1104490</td>\n",
              "      <td>1011395</td>\n",
              "      <td>11</td>\n",
              "      <td>219</td>\n",
              "      <td>18</td>\n",
              "      <td>Bad</td>\n",
              "    </tr>\n",
              "    <tr>\n",
              "      <th>3</th>\n",
              "      <td>2055</td>\n",
              "      <td>7</td>\n",
              "      <td>17092</td>\n",
              "      <td>117</td>\n",
              "      <td>No</td>\n",
              "      <td>14</td>\n",
              "      <td>High Street</td>\n",
              "      <td>1179395</td>\n",
              "      <td>1022959</td>\n",
              "      <td>1009496</td>\n",
              "      <td>1002169</td>\n",
              "      <td>5</td>\n",
              "      <td>261</td>\n",
              "      <td>12</td>\n",
              "      <td>Bad</td>\n",
              "    </tr>\n",
              "    <tr>\n",
              "      <th>4</th>\n",
              "      <td>2141</td>\n",
              "      <td>7</td>\n",
              "      <td>11307</td>\n",
              "      <td>103</td>\n",
              "      <td>No</td>\n",
              "      <td>18</td>\n",
              "      <td>Retail Park</td>\n",
              "      <td>1398558</td>\n",
              "      <td>1085170</td>\n",
              "      <td>1003137</td>\n",
              "      <td>1002513</td>\n",
              "      <td>7</td>\n",
              "      <td>200</td>\n",
              "      <td>13</td>\n",
              "      <td>Bad</td>\n",
              "    </tr>\n",
              "  </tbody>\n",
              "</table>\n",
              "</div>\n",
              "    <div class=\"colab-df-buttons\">\n",
              "\n",
              "  <div class=\"colab-df-container\">\n",
              "    <button class=\"colab-df-convert\" onclick=\"convertToInteractive('df-1f4b4c02-f24e-4c7e-ab1f-84282148890f')\"\n",
              "            title=\"Convert this dataframe to an interactive table.\"\n",
              "            style=\"display:none;\">\n",
              "\n",
              "  <svg xmlns=\"http://www.w3.org/2000/svg\" height=\"24px\" viewBox=\"0 -960 960 960\">\n",
              "    <path d=\"M120-120v-720h720v720H120Zm60-500h600v-160H180v160Zm220 220h160v-160H400v160Zm0 220h160v-160H400v160ZM180-400h160v-160H180v160Zm440 0h160v-160H620v160ZM180-180h160v-160H180v160Zm440 0h160v-160H620v160Z\"/>\n",
              "  </svg>\n",
              "    </button>\n",
              "\n",
              "  <style>\n",
              "    .colab-df-container {\n",
              "      display:flex;\n",
              "      gap: 12px;\n",
              "    }\n",
              "\n",
              "    .colab-df-convert {\n",
              "      background-color: #E8F0FE;\n",
              "      border: none;\n",
              "      border-radius: 50%;\n",
              "      cursor: pointer;\n",
              "      display: none;\n",
              "      fill: #1967D2;\n",
              "      height: 32px;\n",
              "      padding: 0 0 0 0;\n",
              "      width: 32px;\n",
              "    }\n",
              "\n",
              "    .colab-df-convert:hover {\n",
              "      background-color: #E2EBFA;\n",
              "      box-shadow: 0px 1px 2px rgba(60, 64, 67, 0.3), 0px 1px 3px 1px rgba(60, 64, 67, 0.15);\n",
              "      fill: #174EA6;\n",
              "    }\n",
              "\n",
              "    .colab-df-buttons div {\n",
              "      margin-bottom: 4px;\n",
              "    }\n",
              "\n",
              "    [theme=dark] .colab-df-convert {\n",
              "      background-color: #3B4455;\n",
              "      fill: #D2E3FC;\n",
              "    }\n",
              "\n",
              "    [theme=dark] .colab-df-convert:hover {\n",
              "      background-color: #434B5C;\n",
              "      box-shadow: 0px 1px 3px 1px rgba(0, 0, 0, 0.15);\n",
              "      filter: drop-shadow(0px 1px 2px rgba(0, 0, 0, 0.3));\n",
              "      fill: #FFFFFF;\n",
              "    }\n",
              "  </style>\n",
              "\n",
              "    <script>\n",
              "      const buttonEl =\n",
              "        document.querySelector('#df-1f4b4c02-f24e-4c7e-ab1f-84282148890f button.colab-df-convert');\n",
              "      buttonEl.style.display =\n",
              "        google.colab.kernel.accessAllowed ? 'block' : 'none';\n",
              "\n",
              "      async function convertToInteractive(key) {\n",
              "        const element = document.querySelector('#df-1f4b4c02-f24e-4c7e-ab1f-84282148890f');\n",
              "        const dataTable =\n",
              "          await google.colab.kernel.invokeFunction('convertToInteractive',\n",
              "                                                    [key], {});\n",
              "        if (!dataTable) return;\n",
              "\n",
              "        const docLinkHtml = 'Like what you see? Visit the ' +\n",
              "          '<a target=\"_blank\" href=https://colab.research.google.com/notebooks/data_table.ipynb>data table notebook</a>'\n",
              "          + ' to learn more about interactive tables.';\n",
              "        element.innerHTML = '';\n",
              "        dataTable['output_type'] = 'display_data';\n",
              "        await google.colab.output.renderOutput(dataTable, element);\n",
              "        const docLink = document.createElement('div');\n",
              "        docLink.innerHTML = docLinkHtml;\n",
              "        element.appendChild(docLink);\n",
              "      }\n",
              "    </script>\n",
              "  </div>\n",
              "\n",
              "\n",
              "<div id=\"df-11388cfa-4ded-4266-88c5-c0d875ceb1de\">\n",
              "  <button class=\"colab-df-quickchart\" onclick=\"quickchart('df-11388cfa-4ded-4266-88c5-c0d875ceb1de')\"\n",
              "            title=\"Suggest charts\"\n",
              "            style=\"display:none;\">\n",
              "\n",
              "<svg xmlns=\"http://www.w3.org/2000/svg\" height=\"24px\"viewBox=\"0 0 24 24\"\n",
              "     width=\"24px\">\n",
              "    <g>\n",
              "        <path d=\"M19 3H5c-1.1 0-2 .9-2 2v14c0 1.1.9 2 2 2h14c1.1 0 2-.9 2-2V5c0-1.1-.9-2-2-2zM9 17H7v-7h2v7zm4 0h-2V7h2v10zm4 0h-2v-4h2v4z\"/>\n",
              "    </g>\n",
              "</svg>\n",
              "  </button>\n",
              "\n",
              "<style>\n",
              "  .colab-df-quickchart {\n",
              "      --bg-color: #E8F0FE;\n",
              "      --fill-color: #1967D2;\n",
              "      --hover-bg-color: #E2EBFA;\n",
              "      --hover-fill-color: #174EA6;\n",
              "      --disabled-fill-color: #AAA;\n",
              "      --disabled-bg-color: #DDD;\n",
              "  }\n",
              "\n",
              "  [theme=dark] .colab-df-quickchart {\n",
              "      --bg-color: #3B4455;\n",
              "      --fill-color: #D2E3FC;\n",
              "      --hover-bg-color: #434B5C;\n",
              "      --hover-fill-color: #FFFFFF;\n",
              "      --disabled-bg-color: #3B4455;\n",
              "      --disabled-fill-color: #666;\n",
              "  }\n",
              "\n",
              "  .colab-df-quickchart {\n",
              "    background-color: var(--bg-color);\n",
              "    border: none;\n",
              "    border-radius: 50%;\n",
              "    cursor: pointer;\n",
              "    display: none;\n",
              "    fill: var(--fill-color);\n",
              "    height: 32px;\n",
              "    padding: 0;\n",
              "    width: 32px;\n",
              "  }\n",
              "\n",
              "  .colab-df-quickchart:hover {\n",
              "    background-color: var(--hover-bg-color);\n",
              "    box-shadow: 0 1px 2px rgba(60, 64, 67, 0.3), 0 1px 3px 1px rgba(60, 64, 67, 0.15);\n",
              "    fill: var(--button-hover-fill-color);\n",
              "  }\n",
              "\n",
              "  .colab-df-quickchart-complete:disabled,\n",
              "  .colab-df-quickchart-complete:disabled:hover {\n",
              "    background-color: var(--disabled-bg-color);\n",
              "    fill: var(--disabled-fill-color);\n",
              "    box-shadow: none;\n",
              "  }\n",
              "\n",
              "  .colab-df-spinner {\n",
              "    border: 2px solid var(--fill-color);\n",
              "    border-color: transparent;\n",
              "    border-bottom-color: var(--fill-color);\n",
              "    animation:\n",
              "      spin 1s steps(1) infinite;\n",
              "  }\n",
              "\n",
              "  @keyframes spin {\n",
              "    0% {\n",
              "      border-color: transparent;\n",
              "      border-bottom-color: var(--fill-color);\n",
              "      border-left-color: var(--fill-color);\n",
              "    }\n",
              "    20% {\n",
              "      border-color: transparent;\n",
              "      border-left-color: var(--fill-color);\n",
              "      border-top-color: var(--fill-color);\n",
              "    }\n",
              "    30% {\n",
              "      border-color: transparent;\n",
              "      border-left-color: var(--fill-color);\n",
              "      border-top-color: var(--fill-color);\n",
              "      border-right-color: var(--fill-color);\n",
              "    }\n",
              "    40% {\n",
              "      border-color: transparent;\n",
              "      border-right-color: var(--fill-color);\n",
              "      border-top-color: var(--fill-color);\n",
              "    }\n",
              "    60% {\n",
              "      border-color: transparent;\n",
              "      border-right-color: var(--fill-color);\n",
              "    }\n",
              "    80% {\n",
              "      border-color: transparent;\n",
              "      border-right-color: var(--fill-color);\n",
              "      border-bottom-color: var(--fill-color);\n",
              "    }\n",
              "    90% {\n",
              "      border-color: transparent;\n",
              "      border-bottom-color: var(--fill-color);\n",
              "    }\n",
              "  }\n",
              "</style>\n",
              "\n",
              "  <script>\n",
              "    async function quickchart(key) {\n",
              "      const quickchartButtonEl =\n",
              "        document.querySelector('#' + key + ' button');\n",
              "      quickchartButtonEl.disabled = true;  // To prevent multiple clicks.\n",
              "      quickchartButtonEl.classList.add('colab-df-spinner');\n",
              "      try {\n",
              "        const charts = await google.colab.kernel.invokeFunction(\n",
              "            'suggestCharts', [key], {});\n",
              "      } catch (error) {\n",
              "        console.error('Error during call to suggestCharts:', error);\n",
              "      }\n",
              "      quickchartButtonEl.classList.remove('colab-df-spinner');\n",
              "      quickchartButtonEl.classList.add('colab-df-quickchart-complete');\n",
              "    }\n",
              "    (() => {\n",
              "      let quickchartButtonEl =\n",
              "        document.querySelector('#df-11388cfa-4ded-4266-88c5-c0d875ceb1de button');\n",
              "      quickchartButtonEl.style.display =\n",
              "        google.colab.kernel.accessAllowed ? 'block' : 'none';\n",
              "    })();\n",
              "  </script>\n",
              "</div>\n",
              "\n",
              "    </div>\n",
              "  </div>\n"
            ],
            "application/vnd.google.colaboratory.intrinsic+json": {
              "type": "dataframe",
              "variable_name": "df",
              "summary": "{\n  \"name\": \"df\",\n  \"rows\": 136,\n  \"fields\": [\n    {\n      \"column\": \"Store ID\",\n      \"properties\": {\n        \"dtype\": \"number\",\n        \"std\": 28725,\n        \"min\": 1437,\n        \"max\": 99854,\n        \"num_unique_values\": 136,\n        \"samples\": [\n          58882,\n          40676,\n          50703\n        ],\n        \"semantic_type\": \"\",\n        \"description\": \"\"\n      }\n    },\n    {\n      \"column\": \"Staff\",\n      \"properties\": {\n        \"dtype\": \"number\",\n        \"std\": 56,\n        \"min\": -2,\n        \"max\": 600,\n        \"num_unique_values\": 8,\n        \"samples\": [\n          8,\n          6,\n          9\n        ],\n        \"semantic_type\": \"\",\n        \"description\": \"\"\n      }\n    },\n    {\n      \"column\": \"Floor Space\",\n      \"properties\": {\n        \"dtype\": \"number\",\n        \"std\": 2761,\n        \"min\": 10072,\n        \"max\": 19869,\n        \"num_unique_values\": 135,\n        \"samples\": [\n          17982,\n          14833,\n          15738\n        ],\n        \"semantic_type\": \"\",\n        \"description\": \"\"\n      }\n    },\n    {\n      \"column\": \"Window\",\n      \"properties\": {\n        \"dtype\": \"number\",\n        \"std\": 6,\n        \"min\": 100,\n        \"max\": 124,\n        \"num_unique_values\": 25,\n        \"samples\": [\n          102,\n          116,\n          121\n        ],\n        \"semantic_type\": \"\",\n        \"description\": \"\"\n      }\n    },\n    {\n      \"column\": \"Car park\",\n      \"properties\": {\n        \"dtype\": \"category\",\n        \"num_unique_values\": 4,\n        \"samples\": [\n          \"No\",\n          \"N\",\n          \"Yes\"\n        ],\n        \"semantic_type\": \"\",\n        \"description\": \"\"\n      }\n    },\n    {\n      \"column\": \"Demographic score\",\n      \"properties\": {\n        \"dtype\": \"number\",\n        \"std\": 2,\n        \"min\": 10,\n        \"max\": 19,\n        \"num_unique_values\": 10,\n        \"samples\": [\n          13,\n          11,\n          19\n        ],\n        \"semantic_type\": \"\",\n        \"description\": \"\"\n      }\n    },\n    {\n      \"column\": \"Location\",\n      \"properties\": {\n        \"dtype\": \"category\",\n        \"num_unique_values\": 4,\n        \"samples\": [\n          \"Shopping Centre\",\n          \"Village\",\n          \"Retail Park\"\n        ],\n        \"semantic_type\": \"\",\n        \"description\": \"\"\n      }\n    },\n    {\n      \"column\": \"40min population\",\n      \"properties\": {\n        \"dtype\": \"number\",\n        \"std\": 280498,\n        \"min\": 1030405,\n        \"max\": 1997044,\n        \"num_unique_values\": 136,\n        \"samples\": [\n          1087241,\n          1892976,\n          1359135\n        ],\n        \"semantic_type\": \"\",\n        \"description\": \"\"\n      }\n    },\n    {\n      \"column\": \"30 min population\",\n      \"properties\": {\n        \"dtype\": \"number\",\n        \"std\": 216087,\n        \"min\": 1000653,\n        \"max\": 1929089,\n        \"num_unique_values\": 136,\n        \"samples\": [\n          1026797,\n          1100161,\n          1218693\n        ],\n        \"semantic_type\": \"\",\n        \"description\": \"\"\n      }\n    },\n    {\n      \"column\": \"20 min population\",\n      \"properties\": {\n        \"dtype\": \"number\",\n        \"std\": 149027,\n        \"min\": 1000214,\n        \"max\": 1723395,\n        \"num_unique_values\": 136,\n        \"samples\": [\n          1010491,\n          1053955,\n          1145770\n        ],\n        \"semantic_type\": \"\",\n        \"description\": \"\"\n      }\n    },\n    {\n      \"column\": \"10 min population\",\n      \"properties\": {\n        \"dtype\": \"number\",\n        \"std\": 88845,\n        \"min\": 1000002,\n        \"max\": 1426533,\n        \"num_unique_values\": 136,\n        \"samples\": [\n          1001526,\n          1005729,\n          1067001\n        ],\n        \"semantic_type\": \"\",\n        \"description\": \"\"\n      }\n    },\n    {\n      \"column\": \"Store age\",\n      \"properties\": {\n        \"dtype\": \"number\",\n        \"std\": 2,\n        \"min\": 2,\n        \"max\": 11,\n        \"num_unique_values\": 10,\n        \"samples\": [\n          10,\n          4,\n          2\n        ],\n        \"semantic_type\": \"\",\n        \"description\": \"\"\n      }\n    },\n    {\n      \"column\": \"Clearance space\",\n      \"properties\": {\n        \"dtype\": \"number\",\n        \"std\": 51,\n        \"min\": 200,\n        \"max\": 408,\n        \"num_unique_values\": 90,\n        \"samples\": [\n          263,\n          273,\n          220\n        ],\n        \"semantic_type\": \"\",\n        \"description\": \"\"\n      }\n    },\n    {\n      \"column\": \"Competition score\",\n      \"properties\": {\n        \"dtype\": \"number\",\n        \"std\": 2,\n        \"min\": 10,\n        \"max\": 19,\n        \"num_unique_values\": 10,\n        \"samples\": [\n          17,\n          19,\n          11\n        ],\n        \"semantic_type\": \"\",\n        \"description\": \"\"\n      }\n    },\n    {\n      \"column\": \"Performance\",\n      \"properties\": {\n        \"dtype\": \"category\",\n        \"num_unique_values\": 2,\n        \"samples\": [\n          \"Bad\",\n          \"Good\"\n        ],\n        \"semantic_type\": \"\",\n        \"description\": \"\"\n      }\n    }\n  ]\n}"
            }
          },
          "metadata": {},
          "execution_count": 7
        }
      ]
    },
    {
      "cell_type": "code",
      "source": [
        "df.set_index('Store ID', inplace=True)"
      ],
      "metadata": {
        "id": "WNY3qVpasL8E"
      },
      "execution_count": null,
      "outputs": []
    },
    {
      "cell_type": "markdown",
      "source": [
        "# **Checking for data imbalance**"
      ],
      "metadata": {
        "id": "HHCyG_Ef_63z"
      }
    },
    {
      "cell_type": "code",
      "source": [
        "df['Performance'].value_counts()"
      ],
      "metadata": {
        "id": "eGA-Qh-p_od9",
        "colab": {
          "base_uri": "https://localhost:8080/"
        },
        "outputId": "56dc1152-7cfe-4e35-f76a-f936b0b5a942"
      },
      "execution_count": null,
      "outputs": [
        {
          "output_type": "execute_result",
          "data": {
            "text/plain": [
              "Performance\n",
              "Good    69\n",
              "Bad     67\n",
              "Name: count, dtype: int64"
            ]
          },
          "metadata": {},
          "execution_count": 9
        }
      ]
    },
    {
      "cell_type": "code",
      "source": [
        "df['Car park'].value_counts()"
      ],
      "metadata": {
        "id": "ifYCiuAT_3lK",
        "colab": {
          "base_uri": "https://localhost:8080/"
        },
        "outputId": "3ca571b4-bc03-4551-c069-864dc8bbaf2b"
      },
      "execution_count": null,
      "outputs": [
        {
          "output_type": "execute_result",
          "data": {
            "text/plain": [
              "Car park\n",
              "Yes    94\n",
              "No     35\n",
              "Y       4\n",
              "N       3\n",
              "Name: count, dtype: int64"
            ]
          },
          "metadata": {},
          "execution_count": 10
        }
      ]
    },
    {
      "cell_type": "markdown",
      "source": [
        "# **Encoding the categorical variables**"
      ],
      "metadata": {
        "id": "xq0MK42EuGoy"
      }
    },
    {
      "cell_type": "code",
      "source": [
        "df['Car park'].unique()"
      ],
      "metadata": {
        "id": "PqXpzZU6s-PG",
        "colab": {
          "base_uri": "https://localhost:8080/"
        },
        "outputId": "66afdfac-27c0-4d4b-e951-cac9b1716641"
      },
      "execution_count": null,
      "outputs": [
        {
          "output_type": "execute_result",
          "data": {
            "text/plain": [
              "array(['Yes', 'No', 'Y', 'N'], dtype=object)"
            ]
          },
          "metadata": {},
          "execution_count": 11
        }
      ]
    },
    {
      "cell_type": "code",
      "source": [
        "mapping = {'Y': 'Yes', 'N': 'No'}\n",
        "\n",
        "# Replace values in the 'car park' column\n",
        "df['Car park'] = df['Car park'].replace(mapping)"
      ],
      "metadata": {
        "id": "dr1m1GTptQOZ"
      },
      "execution_count": null,
      "outputs": []
    },
    {
      "cell_type": "code",
      "source": [
        "df['Car park'].value_counts()"
      ],
      "metadata": {
        "id": "FzHYzWPeCPc7",
        "colab": {
          "base_uri": "https://localhost:8080/"
        },
        "outputId": "d5bad1f9-c641-4a9d-9d49-198fd1884cd5"
      },
      "execution_count": null,
      "outputs": [
        {
          "output_type": "execute_result",
          "data": {
            "text/plain": [
              "Car park\n",
              "Yes    98\n",
              "No     38\n",
              "Name: count, dtype: int64"
            ]
          },
          "metadata": {},
          "execution_count": 13
        }
      ]
    },
    {
      "cell_type": "code",
      "source": [
        "# from sklearn.utils import resample\n",
        "# majority_class = df[df['Car park'] == 'Yes']\n",
        "# minority_class = df[df['Car park'] == 'No']\n",
        "\n",
        "# majority_downsampled = resample(majority_class, replace=False, n_samples=len(minority_class), random_state=334)\n",
        "\n",
        "# # Combine downsampled majority class with minority class\n",
        "# df = pd.concat([majority_downsampled, minority_class])\n",
        "\n",
        "# print(df['Car park'].value_counts())"
      ],
      "metadata": {
        "id": "2YyURENyCEgc"
      },
      "execution_count": null,
      "outputs": []
    },
    {
      "cell_type": "code",
      "source": [
        "df['Car park']"
      ],
      "metadata": {
        "id": "AlIxFNKDDfic",
        "colab": {
          "base_uri": "https://localhost:8080/"
        },
        "outputId": "6e80c5e4-9e07-4142-aa96-43bf2f9a5aa3"
      },
      "execution_count": null,
      "outputs": [
        {
          "output_type": "execute_result",
          "data": {
            "text/plain": [
              "Store ID\n",
              "1437     Yes\n",
              "1544     Yes\n",
              "2039      No\n",
              "2055      No\n",
              "2141      No\n",
              "        ... \n",
              "96853    Yes\n",
              "96858     No\n",
              "98062     No\n",
              "98923     No\n",
              "99854    Yes\n",
              "Name: Car park, Length: 136, dtype: object"
            ]
          },
          "metadata": {},
          "execution_count": 15
        }
      ]
    },
    {
      "cell_type": "code",
      "source": [
        "le_car = LabelEncoder()\n",
        "df['Car park'] = le_car.fit_transform(df['Car park'])\n",
        "df['Car park']\n"
      ],
      "metadata": {
        "id": "oEG7yjYEuYQb",
        "colab": {
          "base_uri": "https://localhost:8080/"
        },
        "outputId": "4e1b82dd-cfca-41bf-b6a2-00484e90f450"
      },
      "execution_count": null,
      "outputs": [
        {
          "output_type": "execute_result",
          "data": {
            "text/plain": [
              "Store ID\n",
              "1437     1\n",
              "1544     1\n",
              "2039     0\n",
              "2055     0\n",
              "2141     0\n",
              "        ..\n",
              "96853    1\n",
              "96858    0\n",
              "98062    0\n",
              "98923    0\n",
              "99854    1\n",
              "Name: Car park, Length: 136, dtype: int64"
            ]
          },
          "metadata": {},
          "execution_count": 16
        }
      ]
    },
    {
      "cell_type": "code",
      "source": [
        "le_location = LabelEncoder()\n",
        "df['Location'] = le_location.fit_transform(df['Location'])\n",
        "df['Location'].unique()"
      ],
      "metadata": {
        "id": "fwKCBhYMvmPC",
        "colab": {
          "base_uri": "https://localhost:8080/"
        },
        "outputId": "061bb213-9c91-4a02-925f-8da1152e2717"
      },
      "execution_count": null,
      "outputs": [
        {
          "output_type": "execute_result",
          "data": {
            "text/plain": [
              "array([1, 2, 0, 3])"
            ]
          },
          "metadata": {},
          "execution_count": 17
        }
      ]
    },
    {
      "cell_type": "code",
      "source": [
        "le_performance = LabelEncoder()\n",
        "df['Performance'] = le_performance.fit_transform(df['Performance'])\n",
        "df['Performance'].unique()"
      ],
      "metadata": {
        "id": "7Mm_tFEcvvzl",
        "colab": {
          "base_uri": "https://localhost:8080/"
        },
        "outputId": "d0c57473-2fa5-492c-c35d-1cb52bf69a1a"
      },
      "execution_count": null,
      "outputs": [
        {
          "output_type": "execute_result",
          "data": {
            "text/plain": [
              "array([1, 0])"
            ]
          },
          "metadata": {},
          "execution_count": 18
        }
      ]
    },
    {
      "cell_type": "markdown",
      "source": [
        "# **Checking for outliers**\n"
      ],
      "metadata": {
        "id": "cf6ZjUQZhkqP"
      }
    },
    {
      "cell_type": "code",
      "source": [
        "df.boxplot(column='Car park')\n",
        "\n",
        "plt.title('Box plot for Car park Column')\n",
        "plt.ylabel('Value')\n",
        "\n",
        "\n",
        "plt.show()"
      ],
      "metadata": {
        "colab": {
          "base_uri": "https://localhost:8080/",
          "height": 452
        },
        "id": "MhBKE3d7LArH",
        "outputId": "241c8757-8a86-4716-84f8-4cdbeb427380"
      },
      "execution_count": null,
      "outputs": [
        {
          "output_type": "display_data",
          "data": {
            "text/plain": [
              "<Figure size 640x480 with 1 Axes>"
            ],
            "image/png": "[encoded data removed]"
          },
          "metadata": {}
        }
      ]
    },
    {
      "cell_type": "code",
      "source": [
        "df.boxplot(column='Staff')\n",
        "\n",
        "plt.title('Box plot for Staff Column')\n",
        "plt.ylabel('Value')\n",
        "\n",
        "\n",
        "plt.show()"
      ],
      "metadata": {
        "id": "QjWupi3ghGM-",
        "colab": {
          "base_uri": "https://localhost:8080/",
          "height": 452
        },
        "outputId": "183d3915-c251-42fa-e4ca-9afeff816ab8"
      },
      "execution_count": null,
      "outputs": [
        {
          "output_type": "display_data",
          "data": {
            "text/plain": [
              "<Figure size 640x480 with 1 Axes>"
            ],
            "image/png": "[encoded data removed]"
          },
          "metadata": {}
        }
      ]
    },
    {
      "cell_type": "code",
      "source": [
        "for staff in df['Staff']:\n",
        "  if staff > 10 or staff < 0:\n",
        "    df['Staff'].replace(staff, np.median(df['Staff']), inplace=True)"
      ],
      "metadata": {
        "id": "DS8NcGREgrdS"
      },
      "execution_count": null,
      "outputs": []
    },
    {
      "cell_type": "code",
      "source": [
        "df.boxplot(column='Staff')\n",
        "\n",
        "plt.title('Box plot for Staff Column')\n",
        "plt.ylabel('Value')\n",
        "\n",
        "\n",
        "plt.show()"
      ],
      "metadata": {
        "id": "PKYqc6TUjEAT",
        "colab": {
          "base_uri": "https://localhost:8080/",
          "height": 452
        },
        "outputId": "90a50525-8ad4-41b0-9ccd-aa5a6e6058fb"
      },
      "execution_count": null,
      "outputs": [
        {
          "output_type": "display_data",
          "data": {
            "text/plain": [
              "<Figure size 640x480 with 1 Axes>"
            ],
            "image/png": "[encoded data removed]"
          },
          "metadata": {}
        }
      ]
    },
    {
      "cell_type": "code",
      "source": [
        "df.hist(figsize=(10, 6))\n",
        "plt.tight_layout()\n",
        "plt.show()"
      ],
      "metadata": {
        "id": "MXsVLklQkQZV",
        "colab": {
          "base_uri": "https://localhost:8080/",
          "height": 607
        },
        "outputId": "c46bcc2b-dec0-4cc5-86f1-bb5669069136"
      },
      "execution_count": null,
      "outputs": [
        {
          "output_type": "display_data",
          "data": {
            "text/plain": [
              "<Figure size 1000x600 with 16 Axes>"
            ],
            "image/png": "[encoded data removed]"
          },
          "metadata": {}
        }
      ]
    },
    {
      "cell_type": "code",
      "source": [
        "plt.figure(figsize=(10, 6))  # Set figure size\n",
        "df.boxplot()\n",
        "plt.title('Box plots of all features')\n",
        "plt.ylabel('Values')\n",
        "plt.xticks(rotation=45)  # Rotate x-axis labels for better readability\n",
        "plt.tight_layout()  # Adjust layout to prevent overlapping\n",
        "plt.show()\n"
      ],
      "metadata": {
        "id": "cy33MPSVmQCm",
        "colab": {
          "base_uri": "https://localhost:8080/",
          "height": 607
        },
        "outputId": "5732ae6d-b20b-40e3-d1bc-464438aa30dc"
      },
      "execution_count": null,
      "outputs": [
        {
          "output_type": "display_data",
          "data": {
            "text/plain": [
              "<Figure size 1000x600 with 1 Axes>"
            ],
            "image/png": "[encoded data removed]"
          },
          "metadata": {}
        }
      ]
    },
    {
      "cell_type": "code",
      "source": [
        "pop_cols = ['40min population',\t'30 min population',\t'20 min population',\t'10 min population']\n",
        "\n",
        "for cols in pop_cols:\n",
        "  plt.figure(figsize=(10, 6))\n",
        "  df.boxplot(column = cols)\n",
        "  plt.title(f'Box plots of {cols} features')\n",
        "  plt.ylabel('Values')\n",
        "  plt.xticks(rotation=45)\n",
        "  plt.tight_layout()\n",
        "  plt.show()\n"
      ],
      "metadata": {
        "id": "F72gHNwHG55S",
        "colab": {
          "base_uri": "https://localhost:8080/",
          "height": 1000
        },
        "outputId": "30af1a03-12c6-4d07-83eb-22b4dcbd6f19"
      },
      "execution_count": null,
      "outputs": [
        {
          "output_type": "display_data",
          "data": {
            "text/plain": [
              "<Figure size 1000x600 with 1 Axes>"
            ],
            "image/png": "[encoded data removed]"
          },
          "metadata": {}
        },
        {
          "output_type": "display_data",
          "data": {
            "text/plain": [
              "<Figure size 1000x600 with 1 Axes>"
            ],
            "image/png": "[encoded data removed]"
          },
          "metadata": {}
        },
        {
          "output_type": "display_data",
          "data": {
            "text/plain": [
              "<Figure size 1000x600 with 1 Axes>"
            ],
            "image/png": "[encoded data removed]"
          },
          "metadata": {}
        },
        {
          "output_type": "display_data",
          "data": {
            "text/plain": [
              "<Figure size 1000x600 with 1 Axes>"
            ],
            "image/png": "[encoded data removed]"
          },
          "metadata": {}
        }
      ]
    },
    {
      "cell_type": "code",
      "source": [
        "for col in pop_cols:\n",
        "  Q1 = df[col].quantile(0.25)\n",
        "\n",
        "  #calculate the third quartile (Q3)\n",
        "  Q3 = df[col].quantile(0.75)\n",
        "\n",
        "  #calculate the interquartile range (IQR)\n",
        "  IQR = Q3 - Q1\n",
        "\n",
        "  #define the lower and upper bounds for outlier detection\n",
        "  lower_bound = Q1 - 1.5 * IQR\n",
        "  upper_bound = Q3 + 1.5 * IQR\n",
        "\n",
        "\n",
        "  df = df[(df[col] >= lower_bound) & (df[col] <= upper_bound)]\n"
      ],
      "metadata": {
        "id": "yvTXzHnEJRTp"
      },
      "execution_count": null,
      "outputs": []
    },
    {
      "cell_type": "code",
      "source": [
        "\n",
        "for cols in pop_cols:\n",
        "  plt.figure(figsize=(10, 6))\n",
        "  df.boxplot(column = cols)\n",
        "  plt.title(f'Box plots of {cols} features')\n",
        "  plt.ylabel('Values')\n",
        "  plt.xticks(rotation=45)\n",
        "  plt.tight_layout()\n",
        "  plt.show()\n"
      ],
      "metadata": {
        "id": "cmkty2N4JoVE",
        "colab": {
          "base_uri": "https://localhost:8080/",
          "height": 1000
        },
        "outputId": "08898443-f592-4ff7-cf3c-f61b40cc24a0"
      },
      "execution_count": null,
      "outputs": [
        {
          "output_type": "display_data",
          "data": {
            "text/plain": [
              "<Figure size 1000x600 with 1 Axes>"
            ],
            "image/png": "[encoded data removed]"
          },
          "metadata": {}
        },
        {
          "output_type": "display_data",
          "data": {
            "text/plain": [
              "<Figure size 1000x600 with 1 Axes>"
            ],
            "image/png": "[encoded data removed]"
          },
          "metadata": {}
        },
        {
          "output_type": "display_data",
          "data": {
            "text/plain": [
              "<Figure size 1000x600 with 1 Axes>"
            ],
            "image/png": "[encoded data removed]"
          },
          "metadata": {}
        },
        {
          "output_type": "display_data",
          "data": {
            "text/plain": [
              "<Figure size 1000x600 with 1 Axes>"
            ],
            "image/png": "[encoded data removed]"
          },
          "metadata": {}
        }
      ]
    },
    {
      "cell_type": "code",
      "source": [
        "#performing oneway ANOVA test to check any significance between these 4 populaation features\n",
        "\n",
        "from scipy.stats import f_oneway\n",
        "\n",
        "f_statistic, p_value = f_oneway(df['40min population'], df['30 min population'], df['20 min population'], df['10 min population'])\n",
        "\n",
        "\n",
        "print(\"F-statistic:\", f_statistic)\n",
        "print(\"P-value:\", p_value)\n",
        "\n",
        "alpha = 0.05\n",
        "if p_value < alpha:\n",
        "    print(\"Reject the null hypothesis. There is a significant difference between the means of the four groups.\")\n",
        "else:\n",
        "    print(\"Fail to reject the null hypothesis. There is no significant difference between the means of the four groups.\")\n"
      ],
      "metadata": {
        "colab": {
          "base_uri": "https://localhost:8080/"
        },
        "id": "5TZTTxA0G_yX",
        "outputId": "d4a9074f-6e41-43e9-f3d5-a449209423a8"
      },
      "execution_count": null,
      "outputs": [
        {
          "output_type": "stream",
          "name": "stdout",
          "text": [
            "F-statistic: 133.805091081601\n",
            "P-value: 2.18883581299901e-63\n",
            "Reject the null hypothesis. There is a significant difference between the means of the four groups.\n"
          ]
        }
      ]
    },
    {
      "cell_type": "code",
      "source": [
        "from sklearn.feature_selection import SelectKBest, f_classif\n",
        "\n",
        "\n",
        "\n",
        "X = df[['40min population', '30 min population', '20 min population', '10 min population']]\n",
        "y = df['Performance']\n",
        "\n",
        "#selecting top 1 feature based on ANOVA F-test\n",
        "selector = SelectKBest(score_func=f_classif, k=1)\n",
        "X_new = selector.fit_transform(X, y)\n",
        "\n",
        "#selected feature names\n",
        "selected_feature_index = selector.get_support(indices=True)\n",
        "selected_feature_name = X.columns[selected_feature_index]\n",
        "\n",
        "print(\"Selected feature:\", selected_feature_name)\n"
      ],
      "metadata": {
        "colab": {
          "base_uri": "https://localhost:8080/"
        },
        "id": "zhUq-onWJcZM",
        "outputId": "e9c1dedb-75ab-4090-9845-630fa6c8e300"
      },
      "execution_count": null,
      "outputs": [
        {
          "output_type": "stream",
          "name": "stdout",
          "text": [
            "Selected feature: Index(['30 min population'], dtype='object')\n"
          ]
        }
      ]
    },
    {
      "cell_type": "code",
      "source": [
        "#checking for corrlation\n",
        "\n",
        "correlation_matrix = df.corr()\n",
        "correlation_matrix"
      ],
      "metadata": {
        "id": "Ih6EhlNZoe4t",
        "colab": {
          "base_uri": "https://localhost:8080/",
          "height": 647
        },
        "outputId": "765435bc-5338-4e07-b931-65fb6a74a371"
      },
      "execution_count": null,
      "outputs": [
        {
          "output_type": "execute_result",
          "data": {
            "text/plain": [
              "                      Staff  Floor Space    Window  Car park  \\\n",
              "Staff              1.000000    -0.023833 -0.015247 -0.100831   \n",
              "Floor Space       -0.023833     1.000000  0.999198  0.085598   \n",
              "Window            -0.015247     0.999198  1.000000  0.085237   \n",
              "Car park          -0.100831     0.085598  0.085237  1.000000   \n",
              "Demographic score -0.026374     0.091756  0.092522 -0.083650   \n",
              "Location           0.026685     0.015183  0.013835  0.072264   \n",
              "40min population  -0.013062     0.052739  0.052465 -0.107717   \n",
              "30 min population -0.094912    -0.019563 -0.019615 -0.139637   \n",
              "20 min population -0.081065    -0.031287 -0.030403  0.035084   \n",
              "10 min population -0.140405     0.016477  0.017865  0.053090   \n",
              "Store age          0.086183    -0.079848 -0.078779 -0.122251   \n",
              "Clearance space    0.008133     0.633309  0.634104  0.213702   \n",
              "Competition score -0.038101     0.123767  0.137281  0.070603   \n",
              "Performance        0.322993     0.305564  0.311554  0.200731   \n",
              "\n",
              "                   Demographic score  Location  40min population  \\\n",
              "Staff                      -0.026374  0.026685         -0.013062   \n",
              "Floor Space                 0.091756  0.015183          0.052739   \n",
              "Window                      0.092522  0.013835          0.052465   \n",
              "Car park                   -0.083650  0.072264         -0.107717   \n",
              "Demographic score           1.000000 -0.115084          0.023923   \n",
              "Location                   -0.115084  1.000000          0.191335   \n",
              "40min population            0.023923  0.191335          1.000000   \n",
              "30 min population          -0.034322  0.213427          0.572161   \n",
              "20 min population           0.045646  0.243632          0.462250   \n",
              "10 min population           0.069961  0.279694          0.414143   \n",
              "Store age                   0.027225 -0.019580         -0.171312   \n",
              "Clearance space             0.059257  0.077561         -0.016105   \n",
              "Competition score          -0.098879  0.108774          0.027604   \n",
              "Performance                -0.112352  0.333269         -0.106727   \n",
              "\n",
              "                   30 min population  20 min population  10 min population  \\\n",
              "Staff                      -0.094912          -0.081065          -0.140405   \n",
              "Floor Space                -0.019563          -0.031287           0.016477   \n",
              "Window                     -0.019615          -0.030403           0.017865   \n",
              "Car park                   -0.139637           0.035084           0.053090   \n",
              "Demographic score          -0.034322           0.045646           0.069961   \n",
              "Location                    0.213427           0.243632           0.279694   \n",
              "40min population            0.572161           0.462250           0.414143   \n",
              "30 min population           1.000000           0.689900           0.595314   \n",
              "20 min population           0.689900           1.000000           0.759613   \n",
              "10 min population           0.595314           0.759613           1.000000   \n",
              "Store age                  -0.071260          -0.007296          -0.124524   \n",
              "Clearance space            -0.085148          -0.022518           0.073863   \n",
              "Competition score           0.010577          -0.090312          -0.030169   \n",
              "Performance                -0.130032          -0.064952          -0.025290   \n",
              "\n",
              "                   Store age  Clearance space  Competition score  Performance  \n",
              "Staff               0.086183         0.008133          -0.038101     0.322993  \n",
              "Floor Space        -0.079848         0.633309           0.123767     0.305564  \n",
              "Window             -0.078779         0.634104           0.137281     0.311554  \n",
              "Car park           -0.122251         0.213702           0.070603     0.200731  \n",
              "Demographic score   0.027225         0.059257          -0.098879    -0.112352  \n",
              "Location           -0.019580         0.077561           0.108774     0.333269  \n",
              "40min population   -0.171312        -0.016105           0.027604    -0.106727  \n",
              "30 min population  -0.071260        -0.085148           0.010577    -0.130032  \n",
              "20 min population  -0.007296        -0.022518          -0.090312    -0.064952  \n",
              "10 min population  -0.124524         0.073863          -0.030169    -0.025290  \n",
              "Store age           1.000000        -0.032273          -0.109761    -0.048237  \n",
              "Clearance space    -0.032273         1.000000           0.192862     0.273218  \n",
              "Competition score  -0.109761         0.192862           1.000000     0.355129  \n",
              "Performance        -0.048237         0.273218           0.355129     1.000000  "
            ],
            "text/html": [
              "\n",
              "  <div id=\"df-ca3e8dc9-be93-4dab-a890-21ecf43763ad\" class=\"colab-df-container\">\n",
              "    <div>\n",
              "<style scoped>\n",
              "    .dataframe tbody tr th:only-of-type {\n",
              "        vertical-align: middle;\n",
              "    }\n",
              "\n",
              "    .dataframe tbody tr th {\n",
              "        vertical-align: top;\n",
              "    }\n",
              "\n",
              "    .dataframe thead th {\n",
              "        text-align: right;\n",
              "    }\n",
              "</style>\n",
              "<table border=\"1\" class=\"dataframe\">\n",
              "  <thead>\n",
              "    <tr style=\"text-align: right;\">\n",
              "      <th></th>\n",
              "      <th>Staff</th>\n",
              "      <th>Floor Space</th>\n",
              "      <th>Window</th>\n",
              "      <th>Car park</th>\n",
              "      <th>Demographic score</th>\n",
              "      <th>Location</th>\n",
              "      <th>40min population</th>\n",
              "      <th>30 min population</th>\n",
              "      <th>20 min population</th>\n",
              "      <th>10 min population</th>\n",
              "      <th>Store age</th>\n",
              "      <th>Clearance space</th>\n",
              "      <th>Competition score</th>\n",
              "      <th>Performance</th>\n",
              "    </tr>\n",
              "  </thead>\n",
              "  <tbody>\n",
              "    <tr>\n",
              "      <th>Staff</th>\n",
              "      <td>1.000000</td>\n",
              "      <td>-0.023833</td>\n",
              "      <td>-0.015247</td>\n",
              "      <td>-0.100831</td>\n",
              "      <td>-0.026374</td>\n",
              "      <td>0.026685</td>\n",
              "      <td>-0.013062</td>\n",
              "      <td>-0.094912</td>\n",
              "      <td>-0.081065</td>\n",
              "      <td>-0.140405</td>\n",
              "      <td>0.086183</td>\n",
              "      <td>0.008133</td>\n",
              "      <td>-0.038101</td>\n",
              "      <td>0.322993</td>\n",
              "    </tr>\n",
              "    <tr>\n",
              "      <th>Floor Space</th>\n",
              "      <td>-0.023833</td>\n",
              "      <td>1.000000</td>\n",
              "      <td>0.999198</td>\n",
              "      <td>0.085598</td>\n",
              "      <td>0.091756</td>\n",
              "      <td>0.015183</td>\n",
              "      <td>0.052739</td>\n",
              "      <td>-0.019563</td>\n",
              "      <td>-0.031287</td>\n",
              "      <td>0.016477</td>\n",
              "      <td>-0.079848</td>\n",
              "      <td>0.633309</td>\n",
              "      <td>0.123767</td>\n",
              "      <td>0.305564</td>\n",
              "    </tr>\n",
              "    <tr>\n",
              "      <th>Window</th>\n",
              "      <td>-0.015247</td>\n",
              "      <td>0.999198</td>\n",
              "      <td>1.000000</td>\n",
              "      <td>0.085237</td>\n",
              "      <td>0.092522</td>\n",
              "      <td>0.013835</td>\n",
              "      <td>0.052465</td>\n",
              "      <td>-0.019615</td>\n",
              "      <td>-0.030403</td>\n",
              "      <td>0.017865</td>\n",
              "      <td>-0.078779</td>\n",
              "      <td>0.634104</td>\n",
              "      <td>0.137281</td>\n",
              "      <td>0.311554</td>\n",
              "    </tr>\n",
              "    <tr>\n",
              "      <th>Car park</th>\n",
              "      <td>-0.100831</td>\n",
              "      <td>0.085598</td>\n",
              "      <td>0.085237</td>\n",
              "      <td>1.000000</td>\n",
              "      <td>-0.083650</td>\n",
              "      <td>0.072264</td>\n",
              "      <td>-0.107717</td>\n",
              "      <td>-0.139637</td>\n",
              "      <td>0.035084</td>\n",
              "      <td>0.053090</td>\n",
              "      <td>-0.122251</td>\n",
              "      <td>0.213702</td>\n",
              "      <td>0.070603</td>\n",
              "      <td>0.200731</td>\n",
              "    </tr>\n",
              "    <tr>\n",
              "      <th>Demographic score</th>\n",
              "      <td>-0.026374</td>\n",
              "      <td>0.091756</td>\n",
              "      <td>0.092522</td>\n",
              "      <td>-0.083650</td>\n",
              "      <td>1.000000</td>\n",
              "      <td>-0.115084</td>\n",
              "      <td>0.023923</td>\n",
              "      <td>-0.034322</td>\n",
              "      <td>0.045646</td>\n",
              "      <td>0.069961</td>\n",
              "      <td>0.027225</td>\n",
              "      <td>0.059257</td>\n",
              "      <td>-0.098879</td>\n",
              "      <td>-0.112352</td>\n",
              "    </tr>\n",
              "    <tr>\n",
              "      <th>Location</th>\n",
              "      <td>0.026685</td>\n",
              "      <td>0.015183</td>\n",
              "      <td>0.013835</td>\n",
              "      <td>0.072264</td>\n",
              "      <td>-0.115084</td>\n",
              "      <td>1.000000</td>\n",
              "      <td>0.191335</td>\n",
              "      <td>0.213427</td>\n",
              "      <td>0.243632</td>\n",
              "      <td>0.279694</td>\n",
              "      <td>-0.019580</td>\n",
              "      <td>0.077561</td>\n",
              "      <td>0.108774</td>\n",
              "      <td>0.333269</td>\n",
              "    </tr>\n",
              "    <tr>\n",
              "      <th>40min population</th>\n",
              "      <td>-0.013062</td>\n",
              "      <td>0.052739</td>\n",
              "      <td>0.052465</td>\n",
              "      <td>-0.107717</td>\n",
              "      <td>0.023923</td>\n",
              "      <td>0.191335</td>\n",
              "      <td>1.000000</td>\n",
              "      <td>0.572161</td>\n",
              "      <td>0.462250</td>\n",
              "      <td>0.414143</td>\n",
              "      <td>-0.171312</td>\n",
              "      <td>-0.016105</td>\n",
              "      <td>0.027604</td>\n",
              "      <td>-0.106727</td>\n",
              "    </tr>\n",
              "    <tr>\n",
              "      <th>30 min population</th>\n",
              "      <td>-0.094912</td>\n",
              "      <td>-0.019563</td>\n",
              "      <td>-0.019615</td>\n",
              "      <td>-0.139637</td>\n",
              "      <td>-0.034322</td>\n",
              "      <td>0.213427</td>\n",
              "      <td>0.572161</td>\n",
              "      <td>1.000000</td>\n",
              "      <td>0.689900</td>\n",
              "      <td>0.595314</td>\n",
              "      <td>-0.071260</td>\n",
              "      <td>-0.085148</td>\n",
              "      <td>0.010577</td>\n",
              "      <td>-0.130032</td>\n",
              "    </tr>\n",
              "    <tr>\n",
              "      <th>20 min population</th>\n",
              "      <td>-0.081065</td>\n",
              "      <td>-0.031287</td>\n",
              "      <td>-0.030403</td>\n",
              "      <td>0.035084</td>\n",
              "      <td>0.045646</td>\n",
              "      <td>0.243632</td>\n",
              "      <td>0.462250</td>\n",
              "      <td>0.689900</td>\n",
              "      <td>1.000000</td>\n",
              "      <td>0.759613</td>\n",
              "      <td>-0.007296</td>\n",
              "      <td>-0.022518</td>\n",
              "      <td>-0.090312</td>\n",
              "      <td>-0.064952</td>\n",
              "    </tr>\n",
              "    <tr>\n",
              "      <th>10 min population</th>\n",
              "      <td>-0.140405</td>\n",
              "      <td>0.016477</td>\n",
              "      <td>0.017865</td>\n",
              "      <td>0.053090</td>\n",
              "      <td>0.069961</td>\n",
              "      <td>0.279694</td>\n",
              "      <td>0.414143</td>\n",
              "      <td>0.595314</td>\n",
              "      <td>0.759613</td>\n",
              "      <td>1.000000</td>\n",
              "      <td>-0.124524</td>\n",
              "      <td>0.073863</td>\n",
              "      <td>-0.030169</td>\n",
              "      <td>-0.025290</td>\n",
              "    </tr>\n",
              "    <tr>\n",
              "      <th>Store age</th>\n",
              "      <td>0.086183</td>\n",
              "      <td>-0.079848</td>\n",
              "      <td>-0.078779</td>\n",
              "      <td>-0.122251</td>\n",
              "      <td>0.027225</td>\n",
              "      <td>-0.019580</td>\n",
              "      <td>-0.171312</td>\n",
              "      <td>-0.071260</td>\n",
              "      <td>-0.007296</td>\n",
              "      <td>-0.124524</td>\n",
              "      <td>1.000000</td>\n",
              "      <td>-0.032273</td>\n",
              "      <td>-0.109761</td>\n",
              "      <td>-0.048237</td>\n",
              "    </tr>\n",
              "    <tr>\n",
              "      <th>Clearance space</th>\n",
              "      <td>0.008133</td>\n",
              "      <td>0.633309</td>\n",
              "      <td>0.634104</td>\n",
              "      <td>0.213702</td>\n",
              "      <td>0.059257</td>\n",
              "      <td>0.077561</td>\n",
              "      <td>-0.016105</td>\n",
              "      <td>-0.085148</td>\n",
              "      <td>-0.022518</td>\n",
              "      <td>0.073863</td>\n",
              "      <td>-0.032273</td>\n",
              "      <td>1.000000</td>\n",
              "      <td>0.192862</td>\n",
              "      <td>0.273218</td>\n",
              "    </tr>\n",
              "    <tr>\n",
              "      <th>Competition score</th>\n",
              "      <td>-0.038101</td>\n",
              "      <td>0.123767</td>\n",
              "      <td>0.137281</td>\n",
              "      <td>0.070603</td>\n",
              "      <td>-0.098879</td>\n",
              "      <td>0.108774</td>\n",
              "      <td>0.027604</td>\n",
              "      <td>0.010577</td>\n",
              "      <td>-0.090312</td>\n",
              "      <td>-0.030169</td>\n",
              "      <td>-0.109761</td>\n",
              "      <td>0.192862</td>\n",
              "      <td>1.000000</td>\n",
              "      <td>0.355129</td>\n",
              "    </tr>\n",
              "    <tr>\n",
              "      <th>Performance</th>\n",
              "      <td>0.322993</td>\n",
              "      <td>0.305564</td>\n",
              "      <td>0.311554</td>\n",
              "      <td>0.200731</td>\n",
              "      <td>-0.112352</td>\n",
              "      <td>0.333269</td>\n",
              "      <td>-0.106727</td>\n",
              "      <td>-0.130032</td>\n",
              "      <td>-0.064952</td>\n",
              "      <td>-0.025290</td>\n",
              "      <td>-0.048237</td>\n",
              "      <td>0.273218</td>\n",
              "      <td>0.355129</td>\n",
              "      <td>1.000000</td>\n",
              "    </tr>\n",
              "  </tbody>\n",
              "</table>\n",
              "</div>\n",
              "    <div class=\"colab-df-buttons\">\n",
              "\n",
              "  <div class=\"colab-df-container\">\n",
              "    <button class=\"colab-df-convert\" onclick=\"convertToInteractive('df-ca3e8dc9-be93-4dab-a890-21ecf43763ad')\"\n",
              "            title=\"Convert this dataframe to an interactive table.\"\n",
              "            style=\"display:none;\">\n",
              "\n",
              "  <svg xmlns=\"http://www.w3.org/2000/svg\" height=\"24px\" viewBox=\"0 -960 960 960\">\n",
              "    <path d=\"M120-120v-720h720v720H120Zm60-500h600v-160H180v160Zm220 220h160v-160H400v160Zm0 220h160v-160H400v160ZM180-400h160v-160H180v160Zm440 0h160v-160H620v160ZM180-180h160v-160H180v160Zm440 0h160v-160H620v160Z\"/>\n",
              "  </svg>\n",
              "    </button>\n",
              "\n",
              "  <style>\n",
              "    .colab-df-container {\n",
              "      display:flex;\n",
              "      gap: 12px;\n",
              "    }\n",
              "\n",
              "    .colab-df-convert {\n",
              "      background-color: #E8F0FE;\n",
              "      border: none;\n",
              "      border-radius: 50%;\n",
              "      cursor: pointer;\n",
              "      display: none;\n",
              "      fill: #1967D2;\n",
              "      height: 32px;\n",
              "      padding: 0 0 0 0;\n",
              "      width: 32px;\n",
              "    }\n",
              "\n",
              "    .colab-df-convert:hover {\n",
              "      background-color: #E2EBFA;\n",
              "      box-shadow: 0px 1px 2px rgba(60, 64, 67, 0.3), 0px 1px 3px 1px rgba(60, 64, 67, 0.15);\n",
              "      fill: #174EA6;\n",
              "    }\n",
              "\n",
              "    .colab-df-buttons div {\n",
              "      margin-bottom: 4px;\n",
              "    }\n",
              "\n",
              "    [theme=dark] .colab-df-convert {\n",
              "      background-color: #3B4455;\n",
              "      fill: #D2E3FC;\n",
              "    }\n",
              "\n",
              "    [theme=dark] .colab-df-convert:hover {\n",
              "      background-color: #434B5C;\n",
              "      box-shadow: 0px 1px 3px 1px rgba(0, 0, 0, 0.15);\n",
              "      filter: drop-shadow(0px 1px 2px rgba(0, 0, 0, 0.3));\n",
              "      fill: #FFFFFF;\n",
              "    }\n",
              "  </style>\n",
              "\n",
              "    <script>\n",
              "      const buttonEl =\n",
              "        document.querySelector('#df-ca3e8dc9-be93-4dab-a890-21ecf43763ad button.colab-df-convert');\n",
              "      buttonEl.style.display =\n",
              "        google.colab.kernel.accessAllowed ? 'block' : 'none';\n",
              "\n",
              "      async function convertToInteractive(key) {\n",
              "        const element = document.querySelector('#df-ca3e8dc9-be93-4dab-a890-21ecf43763ad');\n",
              "        const dataTable =\n",
              "          await google.colab.kernel.invokeFunction('convertToInteractive',\n",
              "                                                    [key], {});\n",
              "        if (!dataTable) return;\n",
              "\n",
              "        const docLinkHtml = 'Like what you see? Visit the ' +\n",
              "          '<a target=\"_blank\" href=https://colab.research.google.com/notebooks/data_table.ipynb>data table notebook</a>'\n",
              "          + ' to learn more about interactive tables.';\n",
              "        element.innerHTML = '';\n",
              "        dataTable['output_type'] = 'display_data';\n",
              "        await google.colab.output.renderOutput(dataTable, element);\n",
              "        const docLink = document.createElement('div');\n",
              "        docLink.innerHTML = docLinkHtml;\n",
              "        element.appendChild(docLink);\n",
              "      }\n",
              "    </script>\n",
              "  </div>\n",
              "\n",
              "\n",
              "<div id=\"df-2a9ae6e1-fcd9-44fa-a4b6-638b72d1377d\">\n",
              "  <button class=\"colab-df-quickchart\" onclick=\"quickchart('df-2a9ae6e1-fcd9-44fa-a4b6-638b72d1377d')\"\n",
              "            title=\"Suggest charts\"\n",
              "            style=\"display:none;\">\n",
              "\n",
              "<svg xmlns=\"http://www.w3.org/2000/svg\" height=\"24px\"viewBox=\"0 0 24 24\"\n",
              "     width=\"24px\">\n",
              "    <g>\n",
              "        <path d=\"M19 3H5c-1.1 0-2 .9-2 2v14c0 1.1.9 2 2 2h14c1.1 0 2-.9 2-2V5c0-1.1-.9-2-2-2zM9 17H7v-7h2v7zm4 0h-2V7h2v10zm4 0h-2v-4h2v4z\"/>\n",
              "    </g>\n",
              "</svg>\n",
              "  </button>\n",
              "\n",
              "<style>\n",
              "  .colab-df-quickchart {\n",
              "      --bg-color: #E8F0FE;\n",
              "      --fill-color: #1967D2;\n",
              "      --hover-bg-color: #E2EBFA;\n",
              "      --hover-fill-color: #174EA6;\n",
              "      --disabled-fill-color: #AAA;\n",
              "      --disabled-bg-color: #DDD;\n",
              "  }\n",
              "\n",
              "  [theme=dark] .colab-df-quickchart {\n",
              "      --bg-color: #3B4455;\n",
              "      --fill-color: #D2E3FC;\n",
              "      --hover-bg-color: #434B5C;\n",
              "      --hover-fill-color: #FFFFFF;\n",
              "      --disabled-bg-color: #3B4455;\n",
              "      --disabled-fill-color: #666;\n",
              "  }\n",
              "\n",
              "  .colab-df-quickchart {\n",
              "    background-color: var(--bg-color);\n",
              "    border: none;\n",
              "    border-radius: 50%;\n",
              "    cursor: pointer;\n",
              "    display: none;\n",
              "    fill: var(--fill-color);\n",
              "    height: 32px;\n",
              "    padding: 0;\n",
              "    width: 32px;\n",
              "  }\n",
              "\n",
              "  .colab-df-quickchart:hover {\n",
              "    background-color: var(--hover-bg-color);\n",
              "    box-shadow: 0 1px 2px rgba(60, 64, 67, 0.3), 0 1px 3px 1px rgba(60, 64, 67, 0.15);\n",
              "    fill: var(--button-hover-fill-color);\n",
              "  }\n",
              "\n",
              "  .colab-df-quickchart-complete:disabled,\n",
              "  .colab-df-quickchart-complete:disabled:hover {\n",
              "    background-color: var(--disabled-bg-color);\n",
              "    fill: var(--disabled-fill-color);\n",
              "    box-shadow: none;\n",
              "  }\n",
              "\n",
              "  .colab-df-spinner {\n",
              "    border: 2px solid var(--fill-color);\n",
              "    border-color: transparent;\n",
              "    border-bottom-color: var(--fill-color);\n",
              "    animation:\n",
              "      spin 1s steps(1) infinite;\n",
              "  }\n",
              "\n",
              "  @keyframes spin {\n",
              "    0% {\n",
              "      border-color: transparent;\n",
              "      border-bottom-color: var(--fill-color);\n",
              "      border-left-color: var(--fill-color);\n",
              "    }\n",
              "    20% {\n",
              "      border-color: transparent;\n",
              "      border-left-color: var(--fill-color);\n",
              "      border-top-color: var(--fill-color);\n",
              "    }\n",
              "    30% {\n",
              "      border-color: transparent;\n",
              "      border-left-color: var(--fill-color);\n",
              "      border-top-color: var(--fill-color);\n",
              "      border-right-color: var(--fill-color);\n",
              "    }\n",
              "    40% {\n",
              "      border-color: transparent;\n",
              "      border-right-color: var(--fill-color);\n",
              "      border-top-color: var(--fill-color);\n",
              "    }\n",
              "    60% {\n",
              "      border-color: transparent;\n",
              "      border-right-color: var(--fill-color);\n",
              "    }\n",
              "    80% {\n",
              "      border-color: transparent;\n",
              "      border-right-color: var(--fill-color);\n",
              "      border-bottom-color: var(--fill-color);\n",
              "    }\n",
              "    90% {\n",
              "      border-color: transparent;\n",
              "      border-bottom-color: var(--fill-color);\n",
              "    }\n",
              "  }\n",
              "</style>\n",
              "\n",
              "  <script>\n",
              "    async function quickchart(key) {\n",
              "      const quickchartButtonEl =\n",
              "        document.querySelector('#' + key + ' button');\n",
              "      quickchartButtonEl.disabled = true;  // To prevent multiple clicks.\n",
              "      quickchartButtonEl.classList.add('colab-df-spinner');\n",
              "      try {\n",
              "        const charts = await google.colab.kernel.invokeFunction(\n",
              "            'suggestCharts', [key], {});\n",
              "      } catch (error) {\n",
              "        console.error('Error during call to suggestCharts:', error);\n",
              "      }\n",
              "      quickchartButtonEl.classList.remove('colab-df-spinner');\n",
              "      quickchartButtonEl.classList.add('colab-df-quickchart-complete');\n",
              "    }\n",
              "    (() => {\n",
              "      let quickchartButtonEl =\n",
              "        document.querySelector('#df-2a9ae6e1-fcd9-44fa-a4b6-638b72d1377d button');\n",
              "      quickchartButtonEl.style.display =\n",
              "        google.colab.kernel.accessAllowed ? 'block' : 'none';\n",
              "    })();\n",
              "  </script>\n",
              "</div>\n",
              "\n",
              "  <div id=\"id_e4a8b230-870c-4092-9d56-ad5e2c6faef7\">\n",
              "    <style>\n",
              "      .colab-df-generate {\n",
              "        background-color: #E8F0FE;\n",
              "        border: none;\n",
              "        border-radius: 50%;\n",
              "        cursor: pointer;\n",
              "        display: none;\n",
              "        fill: #1967D2;\n",
              "        height: 32px;\n",
              "        padding: 0 0 0 0;\n",
              "        width: 32px;\n",
              "      }\n",
              "\n",
              "      .colab-df-generate:hover {\n",
              "        background-color: #E2EBFA;\n",
              "        box-shadow: 0px 1px 2px rgba(60, 64, 67, 0.3), 0px 1px 3px 1px rgba(60, 64, 67, 0.15);\n",
              "        fill: #174EA6;\n",
              "      }\n",
              "\n",
              "      [theme=dark] .colab-df-generate {\n",
              "        background-color: #3B4455;\n",
              "        fill: #D2E3FC;\n",
              "      }\n",
              "\n",
              "      [theme=dark] .colab-df-generate:hover {\n",
              "        background-color: #434B5C;\n",
              "        box-shadow: 0px 1px 3px 1px rgba(0, 0, 0, 0.15);\n",
              "        filter: drop-shadow(0px 1px 2px rgba(0, 0, 0, 0.3));\n",
              "        fill: #FFFFFF;\n",
              "      }\n",
              "    </style>\n",
              "    <button class=\"colab-df-generate\" onclick=\"generateWithVariable('correlation_matrix')\"\n",
              "            title=\"Generate code using this dataframe.\"\n",
              "            style=\"display:none;\">\n",
              "\n",
              "  <svg xmlns=\"http://www.w3.org/2000/svg\" height=\"24px\"viewBox=\"0 0 24 24\"\n",
              "       width=\"24px\">\n",
              "    <path d=\"M7,19H8.4L18.45,9,17,7.55,7,17.6ZM5,21V16.75L18.45,3.32a2,2,0,0,1,2.83,0l1.4,1.43a1.91,1.91,0,0,1,.58,1.4,1.91,1.91,0,0,1-.58,1.4L9.25,21ZM18.45,9,17,7.55Zm-12,3A5.31,5.31,0,0,0,4.9,8.1,5.31,5.31,0,0,0,1,6.5,5.31,5.31,0,0,0,4.9,4.9,5.31,5.31,0,0,0,6.5,1,5.31,5.31,0,0,0,8.1,4.9,5.31,5.31,0,0,0,12,6.5,5.46,5.46,0,0,0,6.5,12Z\"/>\n",
              "  </svg>\n",
              "    </button>\n",
              "    <script>\n",
              "      (() => {\n",
              "      const buttonEl =\n",
              "        document.querySelector('#id_e4a8b230-870c-4092-9d56-ad5e2c6faef7 button.colab-df-generate');\n",
              "      buttonEl.style.display =\n",
              "        google.colab.kernel.accessAllowed ? 'block' : 'none';\n",
              "\n",
              "      buttonEl.onclick = () => {\n",
              "        google.colab.notebook.generateWithVariable('correlation_matrix');\n",
              "      }\n",
              "      })();\n",
              "    </script>\n",
              "  </div>\n",
              "\n",
              "    </div>\n",
              "  </div>\n"
            ],
            "application/vnd.google.colaboratory.intrinsic+json": {
              "type": "dataframe",
              "variable_name": "correlation_matrix",
              "summary": "{\n  \"name\": \"correlation_matrix\",\n  \"rows\": 14,\n  \"fields\": [\n    {\n      \"column\": \"Staff\",\n      \"properties\": {\n        \"dtype\": \"number\",\n        \"std\": 0.29114336953563535,\n        \"min\": -0.14040534775023725,\n        \"max\": 1.0,\n        \"num_unique_values\": 14,\n        \"samples\": [\n          -0.14040534775023725,\n          0.008132567925986288,\n          1.0\n        ],\n        \"semantic_type\": \"\",\n        \"description\": \"\"\n      }\n    },\n    {\n      \"column\": \"Floor Space\",\n      \"properties\": {\n        \"dtype\": \"number\",\n        \"std\": 0.3739752625123641,\n        \"min\": -0.07984801110598394,\n        \"max\": 1.0,\n        \"num_unique_values\": 14,\n        \"samples\": [\n          0.016476839800739107,\n          0.6333086293648903,\n          -0.023833495350985737\n        ],\n        \"semantic_type\": \"\",\n        \"description\": \"\"\n      }\n    },\n    {\n      \"column\": \"Window\",\n      \"properties\": {\n        \"dtype\": \"number\",\n        \"std\": 0.3733216314887843,\n        \"min\": -0.07877916252010664,\n        \"max\": 1.0,\n        \"num_unique_values\": 14,\n        \"samples\": [\n          0.01786482060745291,\n          0.6341035444941491,\n          -0.01524694522594841\n        ],\n        \"semantic_type\": \"\",\n        \"description\": \"\"\n      }\n    },\n    {\n      \"column\": \"Car park\",\n      \"properties\": {\n        \"dtype\": \"number\",\n        \"std\": 0.2861172990514851,\n        \"min\": -0.13963667156479098,\n        \"max\": 1.0,\n        \"num_unique_values\": 14,\n        \"samples\": [\n          0.05308968361406167,\n          0.21370193109588762,\n          -0.10083083295026225\n        ],\n        \"semantic_type\": \"\",\n        \"description\": \"\"\n      }\n    },\n    {\n      \"column\": \"Demographic score\",\n      \"properties\": {\n        \"dtype\": \"number\",\n        \"std\": 0.2787656028873808,\n        \"min\": -0.11508407453828998,\n        \"max\": 1.0,\n        \"num_unique_values\": 14,\n        \"samples\": [\n          0.06996105277746273,\n          0.05925702178735702,\n          -0.026374394750387463\n        ],\n        \"semantic_type\": \"\",\n        \"description\": \"\"\n      }\n    },\n    {\n      \"column\": \"Location\",\n      \"properties\": {\n        \"dtype\": \"number\",\n        \"std\": 0.2693355535293526,\n        \"min\": -0.11508407453828998,\n        \"max\": 1.0,\n        \"num_unique_values\": 14,\n        \"samples\": [\n          0.27969430588691696,\n          0.0775605685835931,\n          0.026684794874050625\n        ],\n        \"semantic_type\": \"\",\n        \"description\": \"\"\n      }\n    },\n    {\n      \"column\": \"40min population\",\n      \"properties\": {\n        \"dtype\": \"number\",\n        \"std\": 0.3285901626848523,\n        \"min\": -0.17131190300333013,\n        \"max\": 1.0,\n        \"num_unique_values\": 14,\n        \"samples\": [\n          0.41414336551342834,\n          -0.016105165462969633,\n          -0.013062225583826295\n        ],\n        \"semantic_type\": \"\",\n        \"description\": \"\"\n      }\n    },\n    {\n      \"column\": \"30 min population\",\n      \"properties\": {\n        \"dtype\": \"number\",\n        \"std\": 0.3743016002291344,\n        \"min\": -0.13963667156479098,\n        \"max\": 1.0,\n        \"num_unique_values\": 14,\n        \"samples\": [\n          0.5953137402241072,\n          -0.08514835038106283,\n          -0.0949120508134524\n        ],\n        \"semantic_type\": \"\",\n        \"description\": \"\"\n      }\n    },\n    {\n      \"column\": \"20 min population\",\n      \"properties\": {\n        \"dtype\": \"number\",\n        \"std\": 0.3665406430939803,\n        \"min\": -0.0903124254394198,\n        \"max\": 1.0,\n        \"num_unique_values\": 14,\n        \"samples\": [\n          0.7596134667478486,\n          -0.02251823664973565,\n          -0.081064588154858\n        ],\n        \"semantic_type\": \"\",\n        \"description\": \"\"\n      }\n    },\n    {\n      \"column\": \"10 min population\",\n      \"properties\": {\n        \"dtype\": \"number\",\n        \"std\": 0.35148159175268245,\n        \"min\": -0.14040534775023725,\n        \"max\": 1.0,\n        \"num_unique_values\": 14,\n        \"samples\": [\n          1.0,\n          0.07386349527411881,\n          -0.14040534775023725\n        ],\n        \"semantic_type\": \"\",\n        \"description\": \"\"\n      }\n    },\n    {\n      \"column\": \"Store age\",\n      \"properties\": {\n        \"dtype\": \"number\",\n        \"std\": 0.29050050293315616,\n        \"min\": -0.17131190300333013,\n        \"max\": 1.0,\n        \"num_unique_values\": 14,\n        \"samples\": [\n          -0.12452437201213692,\n          -0.03227337407087433,\n          0.08618274520486394\n        ],\n        \"semantic_type\": \"\",\n        \"description\": \"\"\n      }\n    },\n    {\n      \"column\": \"Clearance space\",\n      \"properties\": {\n        \"dtype\": \"number\",\n        \"std\": 0.32077464275833956,\n        \"min\": -0.08514835038106283,\n        \"max\": 1.0,\n        \"num_unique_values\": 14,\n        \"samples\": [\n          0.07386349527411881,\n          1.0,\n          0.008132567925986288\n        ],\n        \"semantic_type\": \"\",\n        \"description\": \"\"\n      }\n    },\n    {\n      \"column\": \"Competition score\",\n      \"properties\": {\n        \"dtype\": \"number\",\n        \"std\": 0.2843115319188542,\n        \"min\": -0.10976074548499885,\n        \"max\": 1.0,\n        \"num_unique_values\": 14,\n        \"samples\": [\n          -0.030169479769350742,\n          0.19286189497600942,\n          -0.03810130387761127\n        ],\n        \"semantic_type\": \"\",\n        \"description\": \"\"\n      }\n    },\n    {\n      \"column\": \"Performance\",\n      \"properties\": {\n        \"dtype\": \"number\",\n        \"std\": 0.30465582975379174,\n        \"min\": -0.13003171163832952,\n        \"max\": 1.0,\n        \"num_unique_values\": 14,\n        \"samples\": [\n          -0.02528964015584654,\n          0.27321832782788896,\n          0.322993318762792\n        ],\n        \"semantic_type\": \"\",\n        \"description\": \"\"\n      }\n    }\n  ]\n}"
            }
          },
          "metadata": {},
          "execution_count": 30
        }
      ]
    },
    {
      "cell_type": "code",
      "source": [
        "# from sklearn.decomposition import PCA\n",
        "\n",
        "# pca = PCA(n_components=6)  # Specify the number of components (dimensions) to reduce to\n",
        "\n",
        "# # Fit and transform the data\n",
        "# reduced_data = pca.fit_transform(df)\n",
        "\n",
        "# original_columns = df.columns\n",
        "\n",
        "# # Get the principal components\n",
        "# principal_components = pca.components_\n",
        "\n",
        "# # Create a DataFrame to display the principal components and their corresponding original column names\n",
        "# components_df = pd.DataFrame(data=principal_components.T, columns=['PC1', 'PC2','PC3','PC4','PC5','PC6'], index=original_columns)\n",
        "\n",
        "# # Print the DataFrame\n",
        "# print(\"Principal Components and Corresponding Original Column Names:\")\n",
        "# print(components_df)\n"
      ],
      "metadata": {
        "id": "nptsznZAqE4D"
      },
      "execution_count": null,
      "outputs": []
    },
    {
      "cell_type": "markdown",
      "source": [
        "### **Splitting and Scaling the**"
      ],
      "metadata": {
        "id": "xonYiXfGyy1e"
      }
    },
    {
      "cell_type": "code",
      "source": [
        "X = df.drop('Performance', axis = 1 )\n",
        "y = df[\"Performance\"]\n",
        "\n",
        "X_train, X_test, y_train, y_test = train_test_split(X, y, test_size=0.2, random_state=42)\n",
        "\n",
        "\n",
        "scaler = StandardScaler()\n",
        "\n",
        "\n",
        "X_train = scaler.fit_transform(X_train)\n",
        "X_test = scaler.transform(X_test)\n",
        "\n",
        "# Print mean and standard deviation of the scaled training data\n",
        "print(\"Mean of scaled training data:\", X_train.mean(axis=0))\n",
        "print(\"Standard deviation of scaled training data:\", X_train.std(axis=0))"
      ],
      "metadata": {
        "id": "F-NBboUNyxY8",
        "colab": {
          "base_uri": "https://localhost:8080/"
        },
        "outputId": "2356b808-b722-4a2e-c8c7-7328199f7791"
      },
      "execution_count": null,
      "outputs": [
        {
          "output_type": "stream",
          "name": "stdout",
          "text": [
            "Mean of scaled training data: [-2.73630725e-16 -1.23358114e-16 -1.02275091e-15  6.72862439e-18\n",
            "  1.90644358e-16  9.16775073e-17  1.11022302e-16 -3.12600675e-16\n",
            "  9.61071851e-16 -3.01666660e-16  7.28934309e-17  1.23358114e-17\n",
            " -1.60365548e-16]\n",
            "Standard deviation of scaled training data: [1. 1. 1. 1. 1. 1. 1. 1. 1. 1. 1. 1. 1.]\n"
          ]
        }
      ]
    },
    {
      "cell_type": "markdown",
      "source": [
        "# **Feature Selection Using Lasso regression**"
      ],
      "metadata": {
        "id": "0Y-eoSidWs4i"
      }
    },
    {
      "cell_type": "code",
      "source": [
        "from sklearn.linear_model import Lasso\n",
        "from sklearn.feature_selection import SelectFromModel\n",
        "\n",
        "lasso = Lasso(alpha=0.1)\n",
        "\n",
        "\n",
        "lasso.fit(X_train, y_train)\n",
        "\n",
        "#initialize SelectFromModel with the trained Lasso regression model\n",
        "selector = SelectFromModel(lasso)\n",
        "\n",
        "\n",
        "selector.fit(X_train, y_train)\n",
        "\n",
        "#get selected feature indices\n",
        "selected_feature_indices = selector.get_support(indices=True)\n",
        "\n",
        "#get names of selected features\n",
        "selected_feature_names = df.columns[selected_feature_indices]\n",
        "\n",
        "\n",
        "print(\"Selected Features:\", selected_feature_names)"
      ],
      "metadata": {
        "id": "65W9SQbjzKtM",
        "colab": {
          "base_uri": "https://localhost:8080/"
        },
        "outputId": "d8eb07b4-f592-474f-9164-84d79253491b"
      },
      "execution_count": null,
      "outputs": [
        {
          "output_type": "stream",
          "name": "stdout",
          "text": [
            "Selected Features: Index(['Staff', 'Window', 'Location', 'Competition score'], dtype='object')\n"
          ]
        }
      ]
    },
    {
      "cell_type": "markdown",
      "source": [
        "# **Model Training Using Logistic Regression**"
      ],
      "metadata": {
        "id": "rcwGB1erW25I"
      }
    },
    {
      "cell_type": "code",
      "source": [
        "X_train_selected = selector.transform(X_train)\n",
        "X_test_selected = selector.transform(X_test)\n",
        "\n",
        "\n",
        "\n",
        "# X_train_selected, X_test_selected, y_train, y_test = train_test_split(X_train_selected, y_train, test_size=0.3, random_state=42)\n",
        "\n",
        "# Initialize and train Logistic Regression model\n",
        "log_reg = LogisticRegression()\n",
        "log_reg.fit(X_train_selected, y_train)\n",
        "\n"
      ],
      "metadata": {
        "id": "MXEandd83qK4",
        "colab": {
          "base_uri": "https://localhost:8080/",
          "height": 75
        },
        "outputId": "a2b8e2aa-6754-4028-b93d-dc65109fefe6"
      },
      "execution_count": null,
      "outputs": [
        {
          "output_type": "execute_result",
          "data": {
            "text/plain": [
              "LogisticRegression()"
            ],
            "text/html": [
              "<style>#sk-container-id-1 {color: black;background-color: white;}#sk-container-id-1 pre{padding: 0;}#sk-container-id-1 div.sk-toggleable {background-color: white;}#sk-container-id-1 label.sk-toggleable__label {cursor: pointer;display: block;width: 100%;margin-bottom: 0;padding: 0.3em;box-sizing: border-box;text-align: center;}#sk-container-id-1 label.sk-toggleable__label-arrow:before {content: \"▸\";float: left;margin-right: 0.25em;color: #696969;}#sk-container-id-1 label.sk-toggleable__label-arrow:hover:before {color: black;}#sk-container-id-1 div.sk-estimator:hover label.sk-toggleable__label-arrow:before {color: black;}#sk-container-id-1 div.sk-toggleable__content {max-height: 0;max-width: 0;overflow: hidden;text-align: left;background-color: #f0f8ff;}#sk-container-id-1 div.sk-toggleable__content pre {margin: 0.2em;color: black;border-radius: 0.25em;background-color: #f0f8ff;}#sk-container-id-1 input.sk-toggleable__control:checked~div.sk-toggleable__content {max-height: 200px;max-width: 100%;overflow: auto;}#sk-container-id-1 input.sk-toggleable__control:checked~label.sk-toggleable__label-arrow:before {content: \"▾\";}#sk-container-id-1 div.sk-estimator input.sk-toggleable__control:checked~label.sk-toggleable__label {background-color: #d4ebff;}#sk-container-id-1 div.sk-label input.sk-toggleable__control:checked~label.sk-toggleable__label {background-color: #d4ebff;}#sk-container-id-1 input.sk-hidden--visually {border: 0;clip: rect(1px 1px 1px 1px);clip: rect(1px, 1px, 1px, 1px);height: 1px;margin: -1px;overflow: hidden;padding: 0;position: absolute;width: 1px;}#sk-container-id-1 div.sk-estimator {font-family: monospace;background-color: #f0f8ff;border: 1px dotted black;border-radius: 0.25em;box-sizing: border-box;margin-bottom: 0.5em;}#sk-container-id-1 div.sk-estimator:hover {background-color: #d4ebff;}#sk-container-id-1 div.sk-parallel-item::after {content: \"\";width: 100%;border-bottom: 1px solid gray;flex-grow: 1;}#sk-container-id-1 div.sk-label:hover label.sk-toggleable__label {background-color: #d4ebff;}#sk-container-id-1 div.sk-serial::before {content: \"\";position: absolute;border-left: 1px solid gray;box-sizing: border-box;top: 0;bottom: 0;left: 50%;z-index: 0;}#sk-container-id-1 div.sk-serial {display: flex;flex-direction: column;align-items: center;background-color: white;padding-right: 0.2em;padding-left: 0.2em;position: relative;}#sk-container-id-1 div.sk-item {position: relative;z-index: 1;}#sk-container-id-1 div.sk-parallel {display: flex;align-items: stretch;justify-content: center;background-color: white;position: relative;}#sk-container-id-1 div.sk-item::before, #sk-container-id-1 div.sk-parallel-item::before {content: \"\";position: absolute;border-left: 1px solid gray;box-sizing: border-box;top: 0;bottom: 0;left: 50%;z-index: -1;}#sk-container-id-1 div.sk-parallel-item {display: flex;flex-direction: column;z-index: 1;position: relative;background-color: white;}#sk-container-id-1 div.sk-parallel-item:first-child::after {align-self: flex-end;width: 50%;}#sk-container-id-1 div.sk-parallel-item:last-child::after {align-self: flex-start;width: 50%;}#sk-container-id-1 div.sk-parallel-item:only-child::after {width: 0;}#sk-container-id-1 div.sk-dashed-wrapped {border: 1px dashed gray;margin: 0 0.4em 0.5em 0.4em;box-sizing: border-box;padding-bottom: 0.4em;background-color: white;}#sk-container-id-1 div.sk-label label {font-family: monospace;font-weight: bold;display: inline-block;line-height: 1.2em;}#sk-container-id-1 div.sk-label-container {text-align: center;}#sk-container-id-1 div.sk-container {/* jupyter's `normalize.less` sets `[hidden] { display: none; }` but bootstrap.min.css set `[hidden] { display: none !important; }` so we also need the `!important` here to be able to override the default hidden behavior on the sphinx rendered scikit-learn.org. See: https://github.com/scikit-learn/scikit-learn/issues/21755 */display: inline-block !important;position: relative;}#sk-container-id-1 div.sk-text-repr-fallback {display: none;}</style><div id=\"sk-container-id-1\" class=\"sk-top-container\"><div class=\"sk-text-repr-fallback\"><pre>LogisticRegression()</pre><b>In a Jupyter environment, please rerun this cell to show the HTML representation or trust the notebook. <br />On GitHub, the HTML representation is unable to render, please try loading this page with nbviewer.org.</b></div><div class=\"sk-container\" hidden><div class=\"sk-item\"><div class=\"sk-estimator sk-toggleable\"><input class=\"sk-toggleable__control sk-hidden--visually\" id=\"sk-estimator-id-1\" type=\"checkbox\" checked><label for=\"sk-estimator-id-1\" class=\"sk-toggleable__label sk-toggleable__label-arrow\">LogisticRegression</label><div class=\"sk-toggleable__content\"><pre>LogisticRegression()</pre></div></div></div></div></div>"
            ]
          },
          "metadata": {},
          "execution_count": 34
        }
      ]
    },
    {
      "cell_type": "code",
      "source": [
        "X_train_selected.shape,X_train.shape"
      ],
      "metadata": {
        "id": "D5istw9BMcG6",
        "colab": {
          "base_uri": "https://localhost:8080/"
        },
        "outputId": "0de6f636-4c54-490c-ff47-cf66377daa17"
      },
      "execution_count": null,
      "outputs": [
        {
          "output_type": "execute_result",
          "data": {
            "text/plain": [
              "((99, 4), (99, 13))"
            ]
          },
          "metadata": {},
          "execution_count": 35
        }
      ]
    },
    {
      "cell_type": "markdown",
      "source": [
        "# **Results**"
      ],
      "metadata": {
        "id": "rpdVA56eXDii"
      }
    },
    {
      "cell_type": "code",
      "source": [
        "train_accuracy = log_reg.score(X_train_selected, y_train)\n",
        "\n",
        "print(\"Training Accuracy:\", train_accuracy*100)"
      ],
      "metadata": {
        "id": "hzlf9SpU6iIT",
        "colab": {
          "base_uri": "https://localhost:8080/"
        },
        "outputId": "4bf761d0-e799-424b-9f2e-d0542f2b1fc7"
      },
      "execution_count": null,
      "outputs": [
        {
          "output_type": "stream",
          "name": "stdout",
          "text": [
            "Training Accuracy: 76.76767676767676\n"
          ]
        }
      ]
    },
    {
      "cell_type": "code",
      "source": [
        "\n",
        "accuracy = log_reg.score(X_test_selected, y_test)\n",
        "\n",
        "print(\"Test Accuracy:\", accuracy*100)"
      ],
      "metadata": {
        "id": "Zuw9Xk-L0OMN",
        "colab": {
          "base_uri": "https://localhost:8080/"
        },
        "outputId": "810f587c-a5aa-48c3-caba-503c68f53747"
      },
      "execution_count": null,
      "outputs": [
        {
          "output_type": "stream",
          "name": "stdout",
          "text": [
            "Test Accuracy: 80.0\n"
          ]
        }
      ]
    },
    {
      "cell_type": "code",
      "source": [
        "from sklearn.metrics import classification_report\n",
        "\n",
        "\n",
        "y_pred = log_reg.predict(X_test_selected)\n",
        "\n",
        "report = classification_report(y_test, y_pred)\n",
        "\n",
        "\n",
        "print(report)\n"
      ],
      "metadata": {
        "colab": {
          "base_uri": "https://localhost:8080/"
        },
        "id": "2IYxuxCbT6B5",
        "outputId": "205138b2-56bc-4717-81e3-8f71d61b7754"
      },
      "execution_count": null,
      "outputs": [
        {
          "output_type": "stream",
          "name": "stdout",
          "text": [
            "              precision    recall  f1-score   support\n",
            "\n",
            "           0       0.86      0.80      0.83        15\n",
            "           1       0.73      0.80      0.76        10\n",
            "\n",
            "    accuracy                           0.80        25\n",
            "   macro avg       0.79      0.80      0.79        25\n",
            "weighted avg       0.81      0.80      0.80        25\n",
            "\n"
          ]
        }
      ]
    },
    {
      "cell_type": "markdown",
      "source": [
        "# **Model Optimisation and Hyperparameter Tuning using GridSearchCV**"
      ],
      "metadata": {
        "id": "g4RRoEEfXIKH"
      }
    },
    {
      "cell_type": "code",
      "source": [
        "from sklearn.model_selection import GridSearchCV\n",
        "\n",
        "param_grid = {\n",
        "    'C': [0.001,0.002,0.003,0.005, 0.01, 0.1, 1, 10, 100],\n",
        "    'penalty': ['l1', 'l2'],\n",
        "    \"solver\": ['lbfgs','liblinear', \"sag\", \"saga\"]\n",
        "}\n",
        "\n",
        "\n",
        "\n",
        "\n",
        "grid_search = GridSearchCV(estimator=log_reg, param_grid=param_grid, cv=5, scoring='accuracy')\n",
        "\n",
        "\n",
        "grid_search.fit(X_train_selected, y_train)\n",
        "\n",
        "#get the best parameters and best score\n",
        "best_params = grid_search.best_params_\n",
        "best_score = grid_search.best_score_\n",
        "\n",
        "print(\"Best Parameters:\", best_params)\n",
        "print(\"Best Score:\", best_score)\n",
        "\n",
        "#evaluate the model with the best parameters on the test set\n",
        "best_model = grid_search.best_estimator_\n",
        "test_accuracy = best_model.score(X_test_selected, y_test)\n",
        "print(\"Test Accuracy with Best Model:\", test_accuracy)"
      ],
      "metadata": {
        "id": "nwIYcZzuLCkU",
        "colab": {
          "base_uri": "https://localhost:8080/"
        },
        "outputId": "92a892a2-cadb-4a4a-ca0a-baa3b94e66ed"
      },
      "execution_count": null,
      "outputs": [
        {
          "output_type": "stream",
          "name": "stdout",
          "text": [
            "Best Parameters: {'C': 0.001, 'penalty': 'l2', 'solver': 'liblinear'}\n",
            "Best Score: 0.728421052631579\n",
            "Test Accuracy with Best Model: 0.8\n"
          ]
        },
        {
          "output_type": "stream",
          "name": "stderr",
          "text": [
            "/usr/local/lib/python3.10/dist-packages/sklearn/model_selection/_validation.py:378: FitFailedWarning: \n",
            "90 fits failed out of a total of 360.\n",
            "The score on these train-test partitions for these parameters will be set to nan.\n",
            "If these failures are not expected, you can try to debug them by setting error_score='raise'.\n",
            "\n",
            "Below are more details about the failures:\n",
            "--------------------------------------------------------------------------------\n",
            "45 fits failed with the following error:\n",
            "Traceback (most recent call last):\n",
            "  File \"/usr/local/lib/python3.10/dist-packages/sklearn/model_selection/_validation.py\", line 686, in _fit_and_score\n",
            "    estimator.fit(X_train, y_train, **fit_params)\n",
            "  File \"/usr/local/lib/python3.10/dist-packages/sklearn/linear_model/_logistic.py\", line 1162, in fit\n",
            "    solver = _check_solver(self.solver, self.penalty, self.dual)\n",
            "  File \"/usr/local/lib/python3.10/dist-packages/sklearn/linear_model/_logistic.py\", line 54, in _check_solver\n",
            "    raise ValueError(\n",
            "ValueError: Solver lbfgs supports only 'l2' or 'none' penalties, got l1 penalty.\n",
            "\n",
            "--------------------------------------------------------------------------------\n",
            "45 fits failed with the following error:\n",
            "Traceback (most recent call last):\n",
            "  File \"/usr/local/lib/python3.10/dist-packages/sklearn/model_selection/_validation.py\", line 686, in _fit_and_score\n",
            "    estimator.fit(X_train, y_train, **fit_params)\n",
            "  File \"/usr/local/lib/python3.10/dist-packages/sklearn/linear_model/_logistic.py\", line 1162, in fit\n",
            "    solver = _check_solver(self.solver, self.penalty, self.dual)\n",
            "  File \"/usr/local/lib/python3.10/dist-packages/sklearn/linear_model/_logistic.py\", line 54, in _check_solver\n",
            "    raise ValueError(\n",
            "ValueError: Solver sag supports only 'l2' or 'none' penalties, got l1 penalty.\n",
            "\n",
            "  warnings.warn(some_fits_failed_message, FitFailedWarning)\n",
            "/usr/local/lib/python3.10/dist-packages/sklearn/model_selection/_search.py:952: UserWarning: One or more of the test scores are non-finite: [       nan 0.47473684        nan 0.48526316 0.52526316 0.72842105\n",
            " 0.52526316 0.52526316        nan 0.47473684        nan 0.50526316\n",
            " 0.56526316 0.72842105 0.56526316 0.56526316        nan 0.47473684\n",
            "        nan 0.51473684 0.62578947 0.72842105 0.62578947 0.62578947\n",
            "        nan 0.47473684        nan 0.52526316 0.65631579 0.72842105\n",
            " 0.65631579 0.65631579        nan 0.47473684        nan 0.52526316\n",
            " 0.70684211 0.72842105 0.70684211 0.70684211        nan 0.60684211\n",
            "        nan 0.60578947 0.71789474 0.70789474 0.71789474 0.71789474\n",
            "        nan 0.71789474        nan 0.70789474 0.70789474 0.71789474\n",
            " 0.70789474 0.70789474        nan 0.71789474        nan 0.71789474\n",
            " 0.71789474 0.71789474 0.71789474 0.71789474        nan 0.71789474\n",
            "        nan 0.71789474 0.71789474 0.71789474 0.71789474 0.71789474]\n",
            "  warnings.warn(\n"
          ]
        }
      ]
    },
    {
      "cell_type": "code",
      "source": [
        "log_reg_cv = LogisticRegression(solver='liblinear',C = 0.001, penalty = 'l2')\n",
        "log_reg_cv.fit(X_train_selected, y_train)"
      ],
      "metadata": {
        "id": "kZqmCJZQMbAF",
        "colab": {
          "base_uri": "https://localhost:8080/",
          "height": 75
        },
        "outputId": "e761594b-2e71-499c-93ab-9b4d881f292f"
      },
      "execution_count": null,
      "outputs": [
        {
          "output_type": "execute_result",
          "data": {
            "text/plain": [
              "LogisticRegression(C=0.001, solver='liblinear')"
            ],
            "text/html": [
              "<style>#sk-container-id-2 {color: black;background-color: white;}#sk-container-id-2 pre{padding: 0;}#sk-container-id-2 div.sk-toggleable {background-color: white;}#sk-container-id-2 label.sk-toggleable__label {cursor: pointer;display: block;width: 100%;margin-bottom: 0;padding: 0.3em;box-sizing: border-box;text-align: center;}#sk-container-id-2 label.sk-toggleable__label-arrow:before {content: \"▸\";float: left;margin-right: 0.25em;color: #696969;}#sk-container-id-2 label.sk-toggleable__label-arrow:hover:before {color: black;}#sk-container-id-2 div.sk-estimator:hover label.sk-toggleable__label-arrow:before {color: black;}#sk-container-id-2 div.sk-toggleable__content {max-height: 0;max-width: 0;overflow: hidden;text-align: left;background-color: #f0f8ff;}#sk-container-id-2 div.sk-toggleable__content pre {margin: 0.2em;color: black;border-radius: 0.25em;background-color: #f0f8ff;}#sk-container-id-2 input.sk-toggleable__control:checked~div.sk-toggleable__content {max-height: 200px;max-width: 100%;overflow: auto;}#sk-container-id-2 input.sk-toggleable__control:checked~label.sk-toggleable__label-arrow:before {content: \"▾\";}#sk-container-id-2 div.sk-estimator input.sk-toggleable__control:checked~label.sk-toggleable__label {background-color: #d4ebff;}#sk-container-id-2 div.sk-label input.sk-toggleable__control:checked~label.sk-toggleable__label {background-color: #d4ebff;}#sk-container-id-2 input.sk-hidden--visually {border: 0;clip: rect(1px 1px 1px 1px);clip: rect(1px, 1px, 1px, 1px);height: 1px;margin: -1px;overflow: hidden;padding: 0;position: absolute;width: 1px;}#sk-container-id-2 div.sk-estimator {font-family: monospace;background-color: #f0f8ff;border: 1px dotted black;border-radius: 0.25em;box-sizing: border-box;margin-bottom: 0.5em;}#sk-container-id-2 div.sk-estimator:hover {background-color: #d4ebff;}#sk-container-id-2 div.sk-parallel-item::after {content: \"\";width: 100%;border-bottom: 1px solid gray;flex-grow: 1;}#sk-container-id-2 div.sk-label:hover label.sk-toggleable__label {background-color: #d4ebff;}#sk-container-id-2 div.sk-serial::before {content: \"\";position: absolute;border-left: 1px solid gray;box-sizing: border-box;top: 0;bottom: 0;left: 50%;z-index: 0;}#sk-container-id-2 div.sk-serial {display: flex;flex-direction: column;align-items: center;background-color: white;padding-right: 0.2em;padding-left: 0.2em;position: relative;}#sk-container-id-2 div.sk-item {position: relative;z-index: 1;}#sk-container-id-2 div.sk-parallel {display: flex;align-items: stretch;justify-content: center;background-color: white;position: relative;}#sk-container-id-2 div.sk-item::before, #sk-container-id-2 div.sk-parallel-item::before {content: \"\";position: absolute;border-left: 1px solid gray;box-sizing: border-box;top: 0;bottom: 0;left: 50%;z-index: -1;}#sk-container-id-2 div.sk-parallel-item {display: flex;flex-direction: column;z-index: 1;position: relative;background-color: white;}#sk-container-id-2 div.sk-parallel-item:first-child::after {align-self: flex-end;width: 50%;}#sk-container-id-2 div.sk-parallel-item:last-child::after {align-self: flex-start;width: 50%;}#sk-container-id-2 div.sk-parallel-item:only-child::after {width: 0;}#sk-container-id-2 div.sk-dashed-wrapped {border: 1px dashed gray;margin: 0 0.4em 0.5em 0.4em;box-sizing: border-box;padding-bottom: 0.4em;background-color: white;}#sk-container-id-2 div.sk-label label {font-family: monospace;font-weight: bold;display: inline-block;line-height: 1.2em;}#sk-container-id-2 div.sk-label-container {text-align: center;}#sk-container-id-2 div.sk-container {/* jupyter's `normalize.less` sets `[hidden] { display: none; }` but bootstrap.min.css set `[hidden] { display: none !important; }` so we also need the `!important` here to be able to override the default hidden behavior on the sphinx rendered scikit-learn.org. See: https://github.com/scikit-learn/scikit-learn/issues/21755 */display: inline-block !important;position: relative;}#sk-container-id-2 div.sk-text-repr-fallback {display: none;}</style><div id=\"sk-container-id-2\" class=\"sk-top-container\"><div class=\"sk-text-repr-fallback\"><pre>LogisticRegression(C=0.001, solver=&#x27;liblinear&#x27;)</pre><b>In a Jupyter environment, please rerun this cell to show the HTML representation or trust the notebook. <br />On GitHub, the HTML representation is unable to render, please try loading this page with nbviewer.org.</b></div><div class=\"sk-container\" hidden><div class=\"sk-item\"><div class=\"sk-estimator sk-toggleable\"><input class=\"sk-toggleable__control sk-hidden--visually\" id=\"sk-estimator-id-2\" type=\"checkbox\" checked><label for=\"sk-estimator-id-2\" class=\"sk-toggleable__label sk-toggleable__label-arrow\">LogisticRegression</label><div class=\"sk-toggleable__content\"><pre>LogisticRegression(C=0.001, solver=&#x27;liblinear&#x27;)</pre></div></div></div></div></div>"
            ]
          },
          "metadata": {},
          "execution_count": 40
        }
      ]
    },
    {
      "cell_type": "code",
      "source": [
        "train_accuracy = log_reg_cv.score(X_train_selected, y_train)\n",
        "\n",
        "print(\"Training Accuracy:\", train_accuracy*100)"
      ],
      "metadata": {
        "id": "uDjjrLR3MzGz",
        "colab": {
          "base_uri": "https://localhost:8080/"
        },
        "outputId": "8c943f11-e1f8-4f0f-8ae7-fa2e4a5faca2"
      },
      "execution_count": null,
      "outputs": [
        {
          "output_type": "stream",
          "name": "stdout",
          "text": [
            "Training Accuracy: 76.76767676767676\n"
          ]
        }
      ]
    },
    {
      "cell_type": "code",
      "source": [
        "accuracy = log_reg_cv.score(X_test_selected, y_test)\n",
        "\n",
        "print(\"Test Accuracy:\", accuracy*100)"
      ],
      "metadata": {
        "id": "F7neeEYCM5cv",
        "colab": {
          "base_uri": "https://localhost:8080/"
        },
        "outputId": "bf13fac6-6d1b-4385-c9af-97ce07996cf5"
      },
      "execution_count": null,
      "outputs": [
        {
          "output_type": "stream",
          "name": "stdout",
          "text": [
            "Test Accuracy: 80.0\n"
          ]
        }
      ]
    },
    {
      "cell_type": "markdown",
      "source": [
        "# **Decision Tree**"
      ],
      "metadata": {
        "id": "YUsdpxxARFJZ"
      }
    },
    {
      "cell_type": "code",
      "source": [
        "from sklearn.tree import DecisionTreeClassifier\n",
        "\n",
        "# Initialize and train Decision Tree model\n",
        "decision_tree = DecisionTreeClassifier(random_state=42)\n",
        "decision_tree.fit(X_train_selected, y_train)"
      ],
      "metadata": {
        "id": "kMO77voGQ02L",
        "colab": {
          "base_uri": "https://localhost:8080/",
          "height": 75
        },
        "outputId": "1d851969-017d-4eaf-faf5-b9d553340b9d"
      },
      "execution_count": null,
      "outputs": [
        {
          "output_type": "execute_result",
          "data": {
            "text/plain": [
              "DecisionTreeClassifier(random_state=42)"
            ],
            "text/html": [
              "<style>#sk-container-id-3 {color: black;background-color: white;}#sk-container-id-3 pre{padding: 0;}#sk-container-id-3 div.sk-toggleable {background-color: white;}#sk-container-id-3 label.sk-toggleable__label {cursor: pointer;display: block;width: 100%;margin-bottom: 0;padding: 0.3em;box-sizing: border-box;text-align: center;}#sk-container-id-3 label.sk-toggleable__label-arrow:before {content: \"▸\";float: left;margin-right: 0.25em;color: #696969;}#sk-container-id-3 label.sk-toggleable__label-arrow:hover:before {color: black;}#sk-container-id-3 div.sk-estimator:hover label.sk-toggleable__label-arrow:before {color: black;}#sk-container-id-3 div.sk-toggleable__content {max-height: 0;max-width: 0;overflow: hidden;text-align: left;background-color: #f0f8ff;}#sk-container-id-3 div.sk-toggleable__content pre {margin: 0.2em;color: black;border-radius: 0.25em;background-color: #f0f8ff;}#sk-container-id-3 input.sk-toggleable__control:checked~div.sk-toggleable__content {max-height: 200px;max-width: 100%;overflow: auto;}#sk-container-id-3 input.sk-toggleable__control:checked~label.sk-toggleable__label-arrow:before {content: \"▾\";}#sk-container-id-3 div.sk-estimator input.sk-toggleable__control:checked~label.sk-toggleable__label {background-color: #d4ebff;}#sk-container-id-3 div.sk-label input.sk-toggleable__control:checked~label.sk-toggleable__label {background-color: #d4ebff;}#sk-container-id-3 input.sk-hidden--visually {border: 0;clip: rect(1px 1px 1px 1px);clip: rect(1px, 1px, 1px, 1px);height: 1px;margin: -1px;overflow: hidden;padding: 0;position: absolute;width: 1px;}#sk-container-id-3 div.sk-estimator {font-family: monospace;background-color: #f0f8ff;border: 1px dotted black;border-radius: 0.25em;box-sizing: border-box;margin-bottom: 0.5em;}#sk-container-id-3 div.sk-estimator:hover {background-color: #d4ebff;}#sk-container-id-3 div.sk-parallel-item::after {content: \"\";width: 100%;border-bottom: 1px solid gray;flex-grow: 1;}#sk-container-id-3 div.sk-label:hover label.sk-toggleable__label {background-color: #d4ebff;}#sk-container-id-3 div.sk-serial::before {content: \"\";position: absolute;border-left: 1px solid gray;box-sizing: border-box;top: 0;bottom: 0;left: 50%;z-index: 0;}#sk-container-id-3 div.sk-serial {display: flex;flex-direction: column;align-items: center;background-color: white;padding-right: 0.2em;padding-left: 0.2em;position: relative;}#sk-container-id-3 div.sk-item {position: relative;z-index: 1;}#sk-container-id-3 div.sk-parallel {display: flex;align-items: stretch;justify-content: center;background-color: white;position: relative;}#sk-container-id-3 div.sk-item::before, #sk-container-id-3 div.sk-parallel-item::before {content: \"\";position: absolute;border-left: 1px solid gray;box-sizing: border-box;top: 0;bottom: 0;left: 50%;z-index: -1;}#sk-container-id-3 div.sk-parallel-item {display: flex;flex-direction: column;z-index: 1;position: relative;background-color: white;}#sk-container-id-3 div.sk-parallel-item:first-child::after {align-self: flex-end;width: 50%;}#sk-container-id-3 div.sk-parallel-item:last-child::after {align-self: flex-start;width: 50%;}#sk-container-id-3 div.sk-parallel-item:only-child::after {width: 0;}#sk-container-id-3 div.sk-dashed-wrapped {border: 1px dashed gray;margin: 0 0.4em 0.5em 0.4em;box-sizing: border-box;padding-bottom: 0.4em;background-color: white;}#sk-container-id-3 div.sk-label label {font-family: monospace;font-weight: bold;display: inline-block;line-height: 1.2em;}#sk-container-id-3 div.sk-label-container {text-align: center;}#sk-container-id-3 div.sk-container {/* jupyter's `normalize.less` sets `[hidden] { display: none; }` but bootstrap.min.css set `[hidden] { display: none !important; }` so we also need the `!important` here to be able to override the default hidden behavior on the sphinx rendered scikit-learn.org. See: https://github.com/scikit-learn/scikit-learn/issues/21755 */display: inline-block !important;position: relative;}#sk-container-id-3 div.sk-text-repr-fallback {display: none;}</style><div id=\"sk-container-id-3\" class=\"sk-top-container\"><div class=\"sk-text-repr-fallback\"><pre>DecisionTreeClassifier(random_state=42)</pre><b>In a Jupyter environment, please rerun this cell to show the HTML representation or trust the notebook. <br />On GitHub, the HTML representation is unable to render, please try loading this page with nbviewer.org.</b></div><div class=\"sk-container\" hidden><div class=\"sk-item\"><div class=\"sk-estimator sk-toggleable\"><input class=\"sk-toggleable__control sk-hidden--visually\" id=\"sk-estimator-id-3\" type=\"checkbox\" checked><label for=\"sk-estimator-id-3\" class=\"sk-toggleable__label sk-toggleable__label-arrow\">DecisionTreeClassifier</label><div class=\"sk-toggleable__content\"><pre>DecisionTreeClassifier(random_state=42)</pre></div></div></div></div></div>"
            ]
          },
          "metadata": {},
          "execution_count": 43
        }
      ]
    },
    {
      "cell_type": "code",
      "source": [
        "train_accuracy = decision_tree.score(X_train_selected, y_train)\n",
        "\n",
        "print(\"Training Accuracy:\", train_accuracy*100)"
      ],
      "metadata": {
        "id": "KjmMCVzxRKtG",
        "colab": {
          "base_uri": "https://localhost:8080/"
        },
        "outputId": "908c6fc4-7dd3-4c5b-ebb5-e3f46b6f6c56"
      },
      "execution_count": null,
      "outputs": [
        {
          "output_type": "stream",
          "name": "stdout",
          "text": [
            "Training Accuracy: 98.98989898989899\n"
          ]
        }
      ]
    },
    {
      "cell_type": "code",
      "source": [
        "accuracy = decision_tree.score(X_test_selected, y_test)\n",
        "\n",
        "print(\"Test Accuracy:\", accuracy*100)"
      ],
      "metadata": {
        "id": "7g4WulBGRKqP",
        "colab": {
          "base_uri": "https://localhost:8080/"
        },
        "outputId": "8c64f092-52d7-4767-bb8b-d73b6c507eec"
      },
      "execution_count": null,
      "outputs": [
        {
          "output_type": "stream",
          "name": "stdout",
          "text": [
            "Test Accuracy: 68.0\n"
          ]
        }
      ]
    },
    {
      "cell_type": "code",
      "source": [
        "# define the parameter grid to search\n",
        "param_grid = {\n",
        "    'max_depth': [None, 5, 10, 15],\n",
        "    'min_samples_split': [2, 5, 10],\n",
        "    'min_samples_leaf': [1, 2, 4]\n",
        "}\n",
        "\n",
        "\n",
        "\n",
        "\n",
        "\n",
        "grid_search = GridSearchCV(estimator=decision_tree, param_grid=param_grid, cv=5, scoring='accuracy')\n",
        "\n",
        "\n",
        "grid_search.fit(X_train_selected, y_train)\n",
        "\n",
        "#get the best parameters and best score\n",
        "best_params = grid_search.best_params_\n",
        "best_score = grid_search.best_score_\n",
        "\n",
        "print(\"Best Parameters:\", best_params)\n",
        "print(\"Best Score:\", best_score)\n",
        "\n",
        "#evaluate the model with the best parameters on the test set\n",
        "best_model = grid_search.best_estimator_\n",
        "test_accuracy = best_model.score(X_test_selected, y_test)\n",
        "print(\"Test Accuracy with Best Model:\", test_accuracy)"
      ],
      "metadata": {
        "id": "c-JzuCitRKnH",
        "colab": {
          "base_uri": "https://localhost:8080/"
        },
        "outputId": "355adeb7-2035-4f17-e0d6-27bbd23e0e7a"
      },
      "execution_count": null,
      "outputs": [
        {
          "output_type": "stream",
          "name": "stdout",
          "text": [
            "Best Parameters: {'max_depth': None, 'min_samples_leaf': 2, 'min_samples_split': 2}\n",
            "Best Score: 0.6768421052631579\n",
            "Test Accuracy with Best Model: 0.76\n"
          ]
        }
      ]
    },
    {
      "cell_type": "markdown",
      "source": [
        "# **Random Forest**"
      ],
      "metadata": {
        "id": "zSDiNwKXXULK"
      }
    },
    {
      "cell_type": "code",
      "source": [
        "from sklearn.ensemble import RandomForestClassifier\n",
        "\n",
        "# Initialize and train Random Forest model\n",
        "random_forest = RandomForestClassifier(random_state=42)\n",
        "random_forest.fit(X_train_selected, y_train)"
      ],
      "metadata": {
        "id": "PEXH8_fZRKkg",
        "colab": {
          "base_uri": "https://localhost:8080/",
          "height": 75
        },
        "outputId": "02196a34-a2a7-48a7-ed78-4a101cec459c"
      },
      "execution_count": null,
      "outputs": [
        {
          "output_type": "execute_result",
          "data": {
            "text/plain": [
              "RandomForestClassifier(random_state=42)"
            ],
            "text/html": [
              "<style>#sk-container-id-4 {color: black;background-color: white;}#sk-container-id-4 pre{padding: 0;}#sk-container-id-4 div.sk-toggleable {background-color: white;}#sk-container-id-4 label.sk-toggleable__label {cursor: pointer;display: block;width: 100%;margin-bottom: 0;padding: 0.3em;box-sizing: border-box;text-align: center;}#sk-container-id-4 label.sk-toggleable__label-arrow:before {content: \"▸\";float: left;margin-right: 0.25em;color: #696969;}#sk-container-id-4 label.sk-toggleable__label-arrow:hover:before {color: black;}#sk-container-id-4 div.sk-estimator:hover label.sk-toggleable__label-arrow:before {color: black;}#sk-container-id-4 div.sk-toggleable__content {max-height: 0;max-width: 0;overflow: hidden;text-align: left;background-color: #f0f8ff;}#sk-container-id-4 div.sk-toggleable__content pre {margin: 0.2em;color: black;border-radius: 0.25em;background-color: #f0f8ff;}#sk-container-id-4 input.sk-toggleable__control:checked~div.sk-toggleable__content {max-height: 200px;max-width: 100%;overflow: auto;}#sk-container-id-4 input.sk-toggleable__control:checked~label.sk-toggleable__label-arrow:before {content: \"▾\";}#sk-container-id-4 div.sk-estimator input.sk-toggleable__control:checked~label.sk-toggleable__label {background-color: #d4ebff;}#sk-container-id-4 div.sk-label input.sk-toggleable__control:checked~label.sk-toggleable__label {background-color: #d4ebff;}#sk-container-id-4 input.sk-hidden--visually {border: 0;clip: rect(1px 1px 1px 1px);clip: rect(1px, 1px, 1px, 1px);height: 1px;margin: -1px;overflow: hidden;padding: 0;position: absolute;width: 1px;}#sk-container-id-4 div.sk-estimator {font-family: monospace;background-color: #f0f8ff;border: 1px dotted black;border-radius: 0.25em;box-sizing: border-box;margin-bottom: 0.5em;}#sk-container-id-4 div.sk-estimator:hover {background-color: #d4ebff;}#sk-container-id-4 div.sk-parallel-item::after {content: \"\";width: 100%;border-bottom: 1px solid gray;flex-grow: 1;}#sk-container-id-4 div.sk-label:hover label.sk-toggleable__label {background-color: #d4ebff;}#sk-container-id-4 div.sk-serial::before {content: \"\";position: absolute;border-left: 1px solid gray;box-sizing: border-box;top: 0;bottom: 0;left: 50%;z-index: 0;}#sk-container-id-4 div.sk-serial {display: flex;flex-direction: column;align-items: center;background-color: white;padding-right: 0.2em;padding-left: 0.2em;position: relative;}#sk-container-id-4 div.sk-item {position: relative;z-index: 1;}#sk-container-id-4 div.sk-parallel {display: flex;align-items: stretch;justify-content: center;background-color: white;position: relative;}#sk-container-id-4 div.sk-item::before, #sk-container-id-4 div.sk-parallel-item::before {content: \"\";position: absolute;border-left: 1px solid gray;box-sizing: border-box;top: 0;bottom: 0;left: 50%;z-index: -1;}#sk-container-id-4 div.sk-parallel-item {display: flex;flex-direction: column;z-index: 1;position: relative;background-color: white;}#sk-container-id-4 div.sk-parallel-item:first-child::after {align-self: flex-end;width: 50%;}#sk-container-id-4 div.sk-parallel-item:last-child::after {align-self: flex-start;width: 50%;}#sk-container-id-4 div.sk-parallel-item:only-child::after {width: 0;}#sk-container-id-4 div.sk-dashed-wrapped {border: 1px dashed gray;margin: 0 0.4em 0.5em 0.4em;box-sizing: border-box;padding-bottom: 0.4em;background-color: white;}#sk-container-id-4 div.sk-label label {font-family: monospace;font-weight: bold;display: inline-block;line-height: 1.2em;}#sk-container-id-4 div.sk-label-container {text-align: center;}#sk-container-id-4 div.sk-container {/* jupyter's `normalize.less` sets `[hidden] { display: none; }` but bootstrap.min.css set `[hidden] { display: none !important; }` so we also need the `!important` here to be able to override the default hidden behavior on the sphinx rendered scikit-learn.org. See: https://github.com/scikit-learn/scikit-learn/issues/21755 */display: inline-block !important;position: relative;}#sk-container-id-4 div.sk-text-repr-fallback {display: none;}</style><div id=\"sk-container-id-4\" class=\"sk-top-container\"><div class=\"sk-text-repr-fallback\"><pre>RandomForestClassifier(random_state=42)</pre><b>In a Jupyter environment, please rerun this cell to show the HTML representation or trust the notebook. <br />On GitHub, the HTML representation is unable to render, please try loading this page with nbviewer.org.</b></div><div class=\"sk-container\" hidden><div class=\"sk-item\"><div class=\"sk-estimator sk-toggleable\"><input class=\"sk-toggleable__control sk-hidden--visually\" id=\"sk-estimator-id-4\" type=\"checkbox\" checked><label for=\"sk-estimator-id-4\" class=\"sk-toggleable__label sk-toggleable__label-arrow\">RandomForestClassifier</label><div class=\"sk-toggleable__content\"><pre>RandomForestClassifier(random_state=42)</pre></div></div></div></div></div>"
            ]
          },
          "metadata": {},
          "execution_count": 47
        }
      ]
    },
    {
      "cell_type": "code",
      "source": [
        "train_accuracy = decision_tree.score(X_train_selected, y_train)\n",
        "\n",
        "print(\"Training Accuracy:\", train_accuracy*100)"
      ],
      "metadata": {
        "id": "3y0leT3XRKhY",
        "colab": {
          "base_uri": "https://localhost:8080/"
        },
        "outputId": "d5249047-a46e-48d5-859c-bf15d255d1d1"
      },
      "execution_count": null,
      "outputs": [
        {
          "output_type": "stream",
          "name": "stdout",
          "text": [
            "Training Accuracy: 98.98989898989899\n"
          ]
        }
      ]
    },
    {
      "cell_type": "code",
      "source": [
        "accuracy = decision_tree.score(X_test_selected, y_test)\n",
        "\n",
        "print(\"Test Accuracy:\", accuracy*100)"
      ],
      "metadata": {
        "id": "MWwO9sv9RKex",
        "colab": {
          "base_uri": "https://localhost:8080/"
        },
        "outputId": "55167fd7-3e77-4477-c150-10c709e92ba2"
      },
      "execution_count": null,
      "outputs": [
        {
          "output_type": "stream",
          "name": "stdout",
          "text": [
            "Test Accuracy: 68.0\n"
          ]
        }
      ]
    },
    {
      "cell_type": "markdown",
      "source": [
        "# **Sample Testing**"
      ],
      "metadata": {
        "id": "0XLhvdGwXaqg"
      }
    },
    {
      "cell_type": "code",
      "source": [
        "# ['Staff', 'Window', 'Location', 'Competition number',\n",
        "      #  'Competition score']\n",
        "# Stamford\tUK\t1544\tElla\t8\t18569\t121\tYes\t11\tShopping Centre\t1086225\t1015321\t1012182\t1008436\t4\t384\t15\t19\tGood\n",
        "\n",
        "\n",
        "X = np.array([[8,18569,121,'Yes',\t11,\t'Shopping Centre',\t1086225,\t1015321,\t1012182,\t1008436,\t4,\t384,\t19]])\n",
        "X"
      ],
      "metadata": {
        "id": "ul_mNtroO221",
        "colab": {
          "base_uri": "https://localhost:8080/"
        },
        "outputId": "9b311684-8993-4e62-b198-84f5c7644bbb"
      },
      "execution_count": null,
      "outputs": [
        {
          "output_type": "execute_result",
          "data": {
            "text/plain": [
              "array([['8', '18569', '121', 'Yes', '11', 'Shopping Centre', '1086225',\n",
              "        '1015321', '1012182', '1008436', '4', '384', '19']], dtype='<U21')"
            ]
          },
          "metadata": {},
          "execution_count": 50
        }
      ]
    },
    {
      "cell_type": "code",
      "source": [
        "X[:,3] = le_car.transform(X[:,3])\n",
        "\n",
        "X[:,5] = le_location.transform(X[:,5])\n"
      ],
      "metadata": {
        "id": "Mp7T1fzJPnpD"
      },
      "execution_count": null,
      "outputs": []
    },
    {
      "cell_type": "code",
      "source": [
        "X= scaler.transform(X)\n",
        "X"
      ],
      "metadata": {
        "id": "eDO3bidGSqRO",
        "colab": {
          "base_uri": "https://localhost:8080/"
        },
        "outputId": "74129009-7d4d-4f60-9862-95c81b60b102"
      },
      "execution_count": null,
      "outputs": [
        {
          "output_type": "stream",
          "name": "stderr",
          "text": [
            "/usr/local/lib/python3.10/dist-packages/sklearn/base.py:439: UserWarning: X does not have valid feature names, but StandardScaler was fitted with feature names\n",
            "  warnings.warn(\n"
          ]
        },
        {
          "output_type": "execute_result",
          "data": {
            "text/plain": [
              "array([[ 0.79418474,  1.26623069,  1.2838993 ,  0.56568542, -1.13691727,\n",
              "         1.01597961, -1.28621811, -0.9946849 , -0.7996358 , -0.69635119,\n",
              "        -0.9236041 ,  2.25755747,  1.42817009]])"
            ]
          },
          "metadata": {},
          "execution_count": 52
        }
      ]
    },
    {
      "cell_type": "code",
      "source": [
        "X = selector.transform(X)\n",
        "X"
      ],
      "metadata": {
        "id": "6KrDOOEzQgav",
        "colab": {
          "base_uri": "https://localhost:8080/"
        },
        "outputId": "a2a76006-d5cc-4b9c-a2c9-91aec42a44f0"
      },
      "execution_count": null,
      "outputs": [
        {
          "output_type": "execute_result",
          "data": {
            "text/plain": [
              "array([[0.79418474, 1.2838993 , 1.01597961, 1.42817009]])"
            ]
          },
          "metadata": {},
          "execution_count": 53
        }
      ]
    },
    {
      "cell_type": "code",
      "source": [
        "X = X.astype(float)"
      ],
      "metadata": {
        "id": "KlMIk2kyM2Q8"
      },
      "execution_count": null,
      "outputs": []
    },
    {
      "cell_type": "code",
      "source": [
        "y_pred = log_reg.predict(X)\n",
        "y_pred"
      ],
      "metadata": {
        "id": "SaRqpc5vSfWN",
        "colab": {
          "base_uri": "https://localhost:8080/"
        },
        "outputId": "20fde42d-6f73-4624-c5ff-d4237e41a25f"
      },
      "execution_count": null,
      "outputs": [
        {
          "output_type": "execute_result",
          "data": {
            "text/plain": [
              "array([1])"
            ]
          },
          "metadata": {},
          "execution_count": 55
        }
      ]
    },
    {
      "cell_type": "code",
      "execution_count": null,
      "metadata": {
        "id": "TLcoCO0X7wym",
        "colab": {
          "base_uri": "https://localhost:8080/"
        },
        "outputId": "22c132f2-dbc2-41bb-da3c-50f937ab631d"
      },
      "outputs": [
        {
          "output_type": "stream",
          "name": "stdout",
          "text": [
            "Transformers and model saved to 'transformers_and_model.pickle' file.\n"
          ]
        }
      ],
      "source": [
        "\n",
        "\n",
        "import pickle\n",
        "\n",
        "\n",
        "\n",
        "transformers_and_model = {\n",
        "    'label_encoder_car': le_car,\n",
        "    'label_encoder_location': le_location,\n",
        "    'label_encoder_performance': le_performance,\n",
        "    'scaler': scaler,\n",
        "    'lasso': lasso,\n",
        "    'feature_selector': selector,\n",
        "    'logistic_regression': log_reg\n",
        "}\n",
        "\n",
        "#Save the dictionary to a pickle file\n",
        "with open('transformers_and_model.pickle', 'wb') as handle:\n",
        "    pickle.dump(transformers_and_model, handle, protocol=pickle.HIGHEST_PROTOCOL)\n",
        "\n",
        "print(\"Transformers and model saved to 'transformers_and_model.pickle' file.\")\n",
        "\n"
      ]
    },
    {
      "cell_type": "code",
      "source": [
        "from google.colab import drive\n",
        "drive.mount('/content/drive')"
      ],
      "metadata": {
        "id": "oyakq9BRdx4-"
      },
      "execution_count": null,
      "outputs": []
    },
    {
      "cell_type": "code",
      "execution_count": null,
      "metadata": {
        "id": "N5NXemtL8quN"
      },
      "outputs": [],
      "source": [
        "\n",
        "# with open('saved_steps.pkl', 'rb') as file:\n",
        "#     data = pickle.load(file)\n",
        "\n",
        "\n",
        "# loaded_dec_tree = data[\"model\"]\n",
        "# le_car = data[\"le_car\"]\n",
        "# le_loaction = data[\"le_location\"]\n",
        "\n"
      ]
    },
    {
      "cell_type": "code",
      "execution_count": null,
      "metadata": {
        "id": "t2g8e0y_9ECu"
      },
      "outputs": [],
      "source": [
        "# # Make predictions using the loaded model\n",
        "# y_pred = loaded_dec_tree.predict(X)\n",
        "# print(y_pred)"
      ]
    }
  ],
  "metadata": {
    "colab": {
      "provenance": []
    },
    "kernelspec": {
      "display_name": "Python 3",
      "name": "python3"
    },
    "language_info": {
      "name": "python"
    }
  },
  "nbformat": 4,
  "nbformat_minor": 0
}